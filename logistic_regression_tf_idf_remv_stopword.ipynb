{
 "cells": [
  {
   "cell_type": "code",
   "execution_count": 17,
   "metadata": {},
   "outputs": [],
   "source": [
    "from sklearn.svm import SVC\n",
    "from sklearn.svm import LinearSVC\n",
    "from sklearn.linear_model import LogisticRegression\n",
    "from sklearn.multiclass import OneVsRestClassifier\n",
    "from sklearn.pipeline import Pipeline\n",
    "from sklearn.preprocessing import StandardScaler\n",
    "from sklearn.utils import resample\n",
    "from sklearn.model_selection import train_test_split\n",
    "from sklearn.model_selection import cross_val_score\n",
    "from sklearn.model_selection import cross_val_predict, cross_val_score\n",
    "from sklearn.metrics import confusion_matrix, ConfusionMatrixDisplay\n",
    "from sklearn.metrics import precision_score, recall_score, f1_score\n",
    "from sklearn.model_selection import GridSearchCV\n",
    "from sklearn.metrics import classification_report\n",
    "import sys\n",
    "\n",
    "sys.path.append(r\"E:\\Learn Machine Learning\\Project\\Opinion Classifier\\res\\tf-idf\\libs\")\n",
    "\n",
    "from libs.utils import *"
   ]
  },
  {
   "attachments": {},
   "cell_type": "markdown",
   "metadata": {},
   "source": [
    "# I. Load và xử lý dữ liệu:"
   ]
  },
  {
   "cell_type": "code",
   "execution_count": 2,
   "metadata": {},
   "outputs": [
    {
     "name": "stderr",
     "output_type": "stream",
     "text": [
      "15:00:25 root INFO: Đang đọc dữ liệu từ file E:\\Learn Machine Learning\\Project\\Opinion Classifier\\res\\dataset\\tf-idf-remv-stopwords.csv ...\n",
      "\t\tat Line 330 [read_dataset() in utils.py, utils]\n",
      "15:00:31 root INFO: Đọc thành công! \n",
      "\t\tat Line 338 [read_dataset() in utils.py, utils]\n"
     ]
    },
    {
     "data": {
      "text/html": [
       "<div>\n",
       "<style scoped>\n",
       "    .dataframe tbody tr th:only-of-type {\n",
       "        vertical-align: middle;\n",
       "    }\n",
       "\n",
       "    .dataframe tbody tr th {\n",
       "        vertical-align: top;\n",
       "    }\n",
       "\n",
       "    .dataframe thead th {\n",
       "        text-align: right;\n",
       "    }\n",
       "</style>\n",
       "<table border=\"1\" class=\"dataframe\">\n",
       "  <thead>\n",
       "    <tr style=\"text-align: right;\">\n",
       "      <th></th>\n",
       "      <th>Unnamed: 0</th>\n",
       "      <th>thạc</th>\n",
       "      <th>666</th>\n",
       "      <th>tham_khảo</th>\n",
       "      <th>danh</th>\n",
       "      <th>gấp_bội</th>\n",
       "      <th>nhàg</th>\n",
       "      <th>ứng</th>\n",
       "      <th>gài</th>\n",
       "      <th>mặc_dù</th>\n",
       "      <th>...</th>\n",
       "      <th>nghìn</th>\n",
       "      <th>center</th>\n",
       "      <th>trượt_tín</th>\n",
       "      <th>bậc</th>\n",
       "      <th>tự_động</th>\n",
       "      <th>cmt</th>\n",
       "      <th>sứ_mệnh</th>\n",
       "      <th>live</th>\n",
       "      <th>địa_phương</th>\n",
       "      <th>label</th>\n",
       "    </tr>\n",
       "  </thead>\n",
       "  <tbody>\n",
       "    <tr>\n",
       "      <th>0</th>\n",
       "      <td>0</td>\n",
       "      <td>0.0</td>\n",
       "      <td>0.0</td>\n",
       "      <td>0.0</td>\n",
       "      <td>0.0</td>\n",
       "      <td>0.0</td>\n",
       "      <td>0.0</td>\n",
       "      <td>0.0</td>\n",
       "      <td>0.0</td>\n",
       "      <td>0.0</td>\n",
       "      <td>...</td>\n",
       "      <td>0.0</td>\n",
       "      <td>0.0</td>\n",
       "      <td>0.0</td>\n",
       "      <td>0.0</td>\n",
       "      <td>0.0</td>\n",
       "      <td>0.0</td>\n",
       "      <td>0.0</td>\n",
       "      <td>0.0</td>\n",
       "      <td>0.0</td>\n",
       "      <td>Positive</td>\n",
       "    </tr>\n",
       "    <tr>\n",
       "      <th>1</th>\n",
       "      <td>1</td>\n",
       "      <td>0.0</td>\n",
       "      <td>0.0</td>\n",
       "      <td>0.0</td>\n",
       "      <td>0.0</td>\n",
       "      <td>0.0</td>\n",
       "      <td>0.0</td>\n",
       "      <td>0.0</td>\n",
       "      <td>0.0</td>\n",
       "      <td>0.0</td>\n",
       "      <td>...</td>\n",
       "      <td>0.0</td>\n",
       "      <td>0.0</td>\n",
       "      <td>0.0</td>\n",
       "      <td>0.0</td>\n",
       "      <td>0.0</td>\n",
       "      <td>0.0</td>\n",
       "      <td>0.0</td>\n",
       "      <td>0.0</td>\n",
       "      <td>0.0</td>\n",
       "      <td>Negative</td>\n",
       "    </tr>\n",
       "    <tr>\n",
       "      <th>2</th>\n",
       "      <td>2</td>\n",
       "      <td>0.0</td>\n",
       "      <td>0.0</td>\n",
       "      <td>0.0</td>\n",
       "      <td>0.0</td>\n",
       "      <td>0.0</td>\n",
       "      <td>0.0</td>\n",
       "      <td>0.0</td>\n",
       "      <td>0.0</td>\n",
       "      <td>0.0</td>\n",
       "      <td>...</td>\n",
       "      <td>0.0</td>\n",
       "      <td>0.0</td>\n",
       "      <td>0.0</td>\n",
       "      <td>0.0</td>\n",
       "      <td>0.0</td>\n",
       "      <td>0.0</td>\n",
       "      <td>0.0</td>\n",
       "      <td>0.0</td>\n",
       "      <td>0.0</td>\n",
       "      <td>Positive</td>\n",
       "    </tr>\n",
       "    <tr>\n",
       "      <th>3</th>\n",
       "      <td>3</td>\n",
       "      <td>0.0</td>\n",
       "      <td>0.0</td>\n",
       "      <td>0.0</td>\n",
       "      <td>0.0</td>\n",
       "      <td>0.0</td>\n",
       "      <td>0.0</td>\n",
       "      <td>0.0</td>\n",
       "      <td>0.0</td>\n",
       "      <td>0.0</td>\n",
       "      <td>...</td>\n",
       "      <td>0.0</td>\n",
       "      <td>0.0</td>\n",
       "      <td>0.0</td>\n",
       "      <td>0.0</td>\n",
       "      <td>0.0</td>\n",
       "      <td>0.0</td>\n",
       "      <td>0.0</td>\n",
       "      <td>0.0</td>\n",
       "      <td>0.0</td>\n",
       "      <td>Positive</td>\n",
       "    </tr>\n",
       "    <tr>\n",
       "      <th>4</th>\n",
       "      <td>4</td>\n",
       "      <td>0.0</td>\n",
       "      <td>0.0</td>\n",
       "      <td>0.0</td>\n",
       "      <td>0.0</td>\n",
       "      <td>0.0</td>\n",
       "      <td>0.0</td>\n",
       "      <td>0.0</td>\n",
       "      <td>0.0</td>\n",
       "      <td>0.0</td>\n",
       "      <td>...</td>\n",
       "      <td>0.0</td>\n",
       "      <td>0.0</td>\n",
       "      <td>0.0</td>\n",
       "      <td>0.0</td>\n",
       "      <td>0.0</td>\n",
       "      <td>0.0</td>\n",
       "      <td>0.0</td>\n",
       "      <td>0.0</td>\n",
       "      <td>0.0</td>\n",
       "      <td>Neutral</td>\n",
       "    </tr>\n",
       "  </tbody>\n",
       "</table>\n",
       "<p>5 rows × 5346 columns</p>\n",
       "</div>"
      ],
      "text/plain": [
       "   Unnamed: 0  thạc  666  tham_khảo  danh  gấp_bội  nhàg  ứng  gài  mặc_dù  \\\n",
       "0           0   0.0  0.0        0.0   0.0      0.0   0.0  0.0  0.0     0.0   \n",
       "1           1   0.0  0.0        0.0   0.0      0.0   0.0  0.0  0.0     0.0   \n",
       "2           2   0.0  0.0        0.0   0.0      0.0   0.0  0.0  0.0     0.0   \n",
       "3           3   0.0  0.0        0.0   0.0      0.0   0.0  0.0  0.0     0.0   \n",
       "4           4   0.0  0.0        0.0   0.0      0.0   0.0  0.0  0.0     0.0   \n",
       "\n",
       "   ...  nghìn  center  trượt_tín  bậc  tự_động  cmt  sứ_mệnh  live  \\\n",
       "0  ...    0.0     0.0        0.0  0.0      0.0  0.0      0.0   0.0   \n",
       "1  ...    0.0     0.0        0.0  0.0      0.0  0.0      0.0   0.0   \n",
       "2  ...    0.0     0.0        0.0  0.0      0.0  0.0      0.0   0.0   \n",
       "3  ...    0.0     0.0        0.0  0.0      0.0  0.0      0.0   0.0   \n",
       "4  ...    0.0     0.0        0.0  0.0      0.0  0.0      0.0   0.0   \n",
       "\n",
       "   địa_phương     label  \n",
       "0         0.0  Positive  \n",
       "1         0.0  Negative  \n",
       "2         0.0  Positive  \n",
       "3         0.0  Positive  \n",
       "4         0.0   Neutral  \n",
       "\n",
       "[5 rows x 5346 columns]"
      ]
     },
     "execution_count": 2,
     "metadata": {},
     "output_type": "execute_result"
    }
   ],
   "source": [
    "DATASET_PATH = r\"E:\\Learn Machine Learning\\Project\\Opinion Classifier\\res\\dataset\\tf-idf-remv-stopwords.csv\"\n",
    "\n",
    "data : pd.DataFrame = read_dataset(DATASET_PATH, \"csv\", header=0)\n",
    "\n",
    "data.head()"
   ]
  },
  {
   "attachments": {},
   "cell_type": "markdown",
   "metadata": {},
   "source": [
    "Loại bỏ cột đầu tiên do rõ ràng không cần thiết (chỉ chạy một lần):"
   ]
  },
  {
   "cell_type": "code",
   "execution_count": 3,
   "metadata": {},
   "outputs": [
    {
     "data": {
      "text/html": [
       "<div>\n",
       "<style scoped>\n",
       "    .dataframe tbody tr th:only-of-type {\n",
       "        vertical-align: middle;\n",
       "    }\n",
       "\n",
       "    .dataframe tbody tr th {\n",
       "        vertical-align: top;\n",
       "    }\n",
       "\n",
       "    .dataframe thead th {\n",
       "        text-align: right;\n",
       "    }\n",
       "</style>\n",
       "<table border=\"1\" class=\"dataframe\">\n",
       "  <thead>\n",
       "    <tr style=\"text-align: right;\">\n",
       "      <th></th>\n",
       "      <th>thạc</th>\n",
       "      <th>666</th>\n",
       "      <th>tham_khảo</th>\n",
       "      <th>danh</th>\n",
       "      <th>gấp_bội</th>\n",
       "      <th>nhàg</th>\n",
       "      <th>ứng</th>\n",
       "      <th>gài</th>\n",
       "      <th>mặc_dù</th>\n",
       "      <th>rộng_rãi</th>\n",
       "      <th>...</th>\n",
       "      <th>nghìn</th>\n",
       "      <th>center</th>\n",
       "      <th>trượt_tín</th>\n",
       "      <th>bậc</th>\n",
       "      <th>tự_động</th>\n",
       "      <th>cmt</th>\n",
       "      <th>sứ_mệnh</th>\n",
       "      <th>live</th>\n",
       "      <th>địa_phương</th>\n",
       "      <th>label</th>\n",
       "    </tr>\n",
       "  </thead>\n",
       "  <tbody>\n",
       "    <tr>\n",
       "      <th>0</th>\n",
       "      <td>0.0</td>\n",
       "      <td>0.0</td>\n",
       "      <td>0.0</td>\n",
       "      <td>0.0</td>\n",
       "      <td>0.0</td>\n",
       "      <td>0.0</td>\n",
       "      <td>0.0</td>\n",
       "      <td>0.0</td>\n",
       "      <td>0.0</td>\n",
       "      <td>0.0</td>\n",
       "      <td>...</td>\n",
       "      <td>0.0</td>\n",
       "      <td>0.0</td>\n",
       "      <td>0.0</td>\n",
       "      <td>0.0</td>\n",
       "      <td>0.0</td>\n",
       "      <td>0.0</td>\n",
       "      <td>0.0</td>\n",
       "      <td>0.0</td>\n",
       "      <td>0.0</td>\n",
       "      <td>Positive</td>\n",
       "    </tr>\n",
       "    <tr>\n",
       "      <th>1</th>\n",
       "      <td>0.0</td>\n",
       "      <td>0.0</td>\n",
       "      <td>0.0</td>\n",
       "      <td>0.0</td>\n",
       "      <td>0.0</td>\n",
       "      <td>0.0</td>\n",
       "      <td>0.0</td>\n",
       "      <td>0.0</td>\n",
       "      <td>0.0</td>\n",
       "      <td>0.0</td>\n",
       "      <td>...</td>\n",
       "      <td>0.0</td>\n",
       "      <td>0.0</td>\n",
       "      <td>0.0</td>\n",
       "      <td>0.0</td>\n",
       "      <td>0.0</td>\n",
       "      <td>0.0</td>\n",
       "      <td>0.0</td>\n",
       "      <td>0.0</td>\n",
       "      <td>0.0</td>\n",
       "      <td>Negative</td>\n",
       "    </tr>\n",
       "    <tr>\n",
       "      <th>2</th>\n",
       "      <td>0.0</td>\n",
       "      <td>0.0</td>\n",
       "      <td>0.0</td>\n",
       "      <td>0.0</td>\n",
       "      <td>0.0</td>\n",
       "      <td>0.0</td>\n",
       "      <td>0.0</td>\n",
       "      <td>0.0</td>\n",
       "      <td>0.0</td>\n",
       "      <td>0.0</td>\n",
       "      <td>...</td>\n",
       "      <td>0.0</td>\n",
       "      <td>0.0</td>\n",
       "      <td>0.0</td>\n",
       "      <td>0.0</td>\n",
       "      <td>0.0</td>\n",
       "      <td>0.0</td>\n",
       "      <td>0.0</td>\n",
       "      <td>0.0</td>\n",
       "      <td>0.0</td>\n",
       "      <td>Positive</td>\n",
       "    </tr>\n",
       "    <tr>\n",
       "      <th>3</th>\n",
       "      <td>0.0</td>\n",
       "      <td>0.0</td>\n",
       "      <td>0.0</td>\n",
       "      <td>0.0</td>\n",
       "      <td>0.0</td>\n",
       "      <td>0.0</td>\n",
       "      <td>0.0</td>\n",
       "      <td>0.0</td>\n",
       "      <td>0.0</td>\n",
       "      <td>0.0</td>\n",
       "      <td>...</td>\n",
       "      <td>0.0</td>\n",
       "      <td>0.0</td>\n",
       "      <td>0.0</td>\n",
       "      <td>0.0</td>\n",
       "      <td>0.0</td>\n",
       "      <td>0.0</td>\n",
       "      <td>0.0</td>\n",
       "      <td>0.0</td>\n",
       "      <td>0.0</td>\n",
       "      <td>Positive</td>\n",
       "    </tr>\n",
       "    <tr>\n",
       "      <th>4</th>\n",
       "      <td>0.0</td>\n",
       "      <td>0.0</td>\n",
       "      <td>0.0</td>\n",
       "      <td>0.0</td>\n",
       "      <td>0.0</td>\n",
       "      <td>0.0</td>\n",
       "      <td>0.0</td>\n",
       "      <td>0.0</td>\n",
       "      <td>0.0</td>\n",
       "      <td>0.0</td>\n",
       "      <td>...</td>\n",
       "      <td>0.0</td>\n",
       "      <td>0.0</td>\n",
       "      <td>0.0</td>\n",
       "      <td>0.0</td>\n",
       "      <td>0.0</td>\n",
       "      <td>0.0</td>\n",
       "      <td>0.0</td>\n",
       "      <td>0.0</td>\n",
       "      <td>0.0</td>\n",
       "      <td>Neutral</td>\n",
       "    </tr>\n",
       "  </tbody>\n",
       "</table>\n",
       "<p>5 rows × 5345 columns</p>\n",
       "</div>"
      ],
      "text/plain": [
       "   thạc  666  tham_khảo  danh  gấp_bội  nhàg  ứng  gài  mặc_dù  rộng_rãi  ...  \\\n",
       "0   0.0  0.0        0.0   0.0      0.0   0.0  0.0  0.0     0.0       0.0  ...   \n",
       "1   0.0  0.0        0.0   0.0      0.0   0.0  0.0  0.0     0.0       0.0  ...   \n",
       "2   0.0  0.0        0.0   0.0      0.0   0.0  0.0  0.0     0.0       0.0  ...   \n",
       "3   0.0  0.0        0.0   0.0      0.0   0.0  0.0  0.0     0.0       0.0  ...   \n",
       "4   0.0  0.0        0.0   0.0      0.0   0.0  0.0  0.0     0.0       0.0  ...   \n",
       "\n",
       "   nghìn  center  trượt_tín  bậc  tự_động  cmt  sứ_mệnh  live  địa_phương  \\\n",
       "0    0.0     0.0        0.0  0.0      0.0  0.0      0.0   0.0         0.0   \n",
       "1    0.0     0.0        0.0  0.0      0.0  0.0      0.0   0.0         0.0   \n",
       "2    0.0     0.0        0.0  0.0      0.0  0.0      0.0   0.0         0.0   \n",
       "3    0.0     0.0        0.0  0.0      0.0  0.0      0.0   0.0         0.0   \n",
       "4    0.0     0.0        0.0  0.0      0.0  0.0      0.0   0.0         0.0   \n",
       "\n",
       "      label  \n",
       "0  Positive  \n",
       "1  Negative  \n",
       "2  Positive  \n",
       "3  Positive  \n",
       "4   Neutral  \n",
       "\n",
       "[5 rows x 5345 columns]"
      ]
     },
     "execution_count": 3,
     "metadata": {},
     "output_type": "execute_result"
    }
   ],
   "source": [
    "data = data.drop(columns=data.columns.values[0], axis=1)\n",
    "data.head()"
   ]
  },
  {
   "attachments": {},
   "cell_type": "markdown",
   "metadata": {},
   "source": [
    "\n",
    "Lọc các lớp có trong tập huấn luyện:"
   ]
  },
  {
   "cell_type": "code",
   "execution_count": 4,
   "metadata": {},
   "outputs": [
    {
     "data": {
      "text/plain": [
       "['Positive', 'Neutral', 'Negative']"
      ]
     },
     "execution_count": 4,
     "metadata": {},
     "output_type": "execute_result"
    }
   ],
   "source": [
    "labels : list[str] = data[\"label\"].unique().tolist()\n",
    "labels.sort(reverse=True)\n",
    "labels"
   ]
  },
  {
   "attachments": {},
   "cell_type": "markdown",
   "metadata": {},
   "source": [
    "Thống kê số mẫu:"
   ]
  },
  {
   "cell_type": "code",
   "execution_count": 5,
   "metadata": {},
   "outputs": [
    {
     "data": {
      "text/plain": [
       "{'Positive': 1085, 'Neutral': 842, 'Negative': 569}"
      ]
     },
     "execution_count": 5,
     "metadata": {},
     "output_type": "execute_result"
    }
   ],
   "source": [
    "n_samples_classes = data[\"label\"].value_counts().to_dict()\n",
    "n_samples_classes"
   ]
  },
  {
   "attachments": {},
   "cell_type": "markdown",
   "metadata": {},
   "source": [
    "Thực hiện đánh trọng số cho các lớp theo công thức:\n",
    "\n",
    "        class_weight = n_samples / (n_classes * n_samples_class_k)\n",
    "\n",
    ", trong đó:\n",
    "* `n_samples` là tổng số đối tượng tập huấn luyện. \n",
    "* `n_classes` là tổng số lớp. \n",
    "* `n_sample_class_k` là tổng số đối tượng tập huấn luyện thuộc lớp k.\n",
    "* `class_weight` là trọng số của lớp k.\n"
   ]
  },
  {
   "cell_type": "code",
   "execution_count": 6,
   "metadata": {},
   "outputs": [
    {
     "data": {
      "text/plain": [
       "{'Positive': 0.7668202764976959,\n",
       " 'Neutral': 0.9881235154394299,\n",
       " 'Negative': 1.4622144112478033}"
      ]
     },
     "execution_count": 6,
     "metadata": {},
     "output_type": "execute_result"
    }
   ],
   "source": [
    "n_samples : int = len(data)\n",
    "class_weight : dict[str, float] = {k : n_samples / (len(labels) * n_samples_classes.get(k)) for k in n_samples_classes}\n",
    "class_weight"
   ]
  },
  {
   "attachments": {},
   "cell_type": "markdown",
   "metadata": {},
   "source": [
    "Phân chia tập dữ liệu thành tập huấn luyện và tập kiểm thử:"
   ]
  },
  {
   "cell_type": "code",
   "execution_count": 7,
   "metadata": {},
   "outputs": [],
   "source": [
    "training_set, testing_set = train_test_split(data, test_size=0.2, random_state=42, shuffle=True, stratify=data[\"label\"])"
   ]
  },
  {
   "cell_type": "code",
   "execution_count": 8,
   "metadata": {},
   "outputs": [],
   "source": [
    "def draw_labels_rate_pie(y : pd.Series, title : str=\"Tỉ lệ nhãn tập dữ liệu\", save_fig : bool = False):\n",
    "    precent_rate = lambda sub , total : (sub / total) * 100\n",
    "    labels = list(y.unique())\n",
    "    labels.sort()\n",
    "    labels_rate = [precent_rate(len(y[y == x]), len(y)) for x in labels]\n",
    "    fig_labels_rate, ax = plt.subplots()\n",
    "    ax.pie(labels_rate, labels=[str(len(y[y == x])) for x in labels], autopct='%1.2f%%', shadow=False)\n",
    "    plt.title(title)\n",
    "    plt.legend(loc=\"lower right\", labels=labels)\n",
    "    if save_fig:\n",
    "        save_fig(IMAGES_PATH, \"Labels Rate\")    "
   ]
  },
  {
   "cell_type": "code",
   "execution_count": 9,
   "metadata": {},
   "outputs": [
    {
     "data": {
      "image/png": "[encoded data removed]",
      "text/plain": [
       "<Figure size 640x480 with 1 Axes>"
      ]
     },
     "metadata": {},
     "output_type": "display_data"
    },
    {
     "data": {
      "image/png": "[encoded data removed]",
      "text/plain": [
       "<Figure size 640x480 with 1 Axes>"
      ]
     },
     "metadata": {},
     "output_type": "display_data"
    }
   ],
   "source": [
    "draw_labels_rate_pie(training_set[\"label\"])\n",
    "\n",
    "draw_labels_rate_pie(testing_set[\"label\"])"
   ]
  },
  {
   "attachments": {},
   "cell_type": "markdown",
   "metadata": {},
   "source": [
    "# 2. Huấn luyện không sử dụng oversampling:"
   ]
  },
  {
   "attachments": {},
   "cell_type": "markdown",
   "metadata": {},
   "source": [
    "## 2.1. Phân chia dữ liệu:"
   ]
  },
  {
   "cell_type": "code",
   "execution_count": 10,
   "metadata": {},
   "outputs": [],
   "source": [
    "X_train : pd.DataFrame = training_set.drop(columns=\"label\", axis=1)\n",
    "y_train : pd.Series = training_set[\"label\"].copy()\n",
    "X_testing : pd.DataFrame = testing_set.drop(columns=\"label\", axis=1)\n",
    "y_testing : pd.Series = testing_set[\"label\"].copy()\n"
   ]
  },
  {
   "attachments": {},
   "cell_type": "markdown",
   "metadata": {},
   "source": [
    "Chuyển nhãn của tập huấn luyện sang dạng số (Thuận tiện cho tính toán)"
   ]
  },
  {
   "cell_type": "code",
   "execution_count": 11,
   "metadata": {},
   "outputs": [
    {
     "data": {
      "text/plain": [
       "604     2\n",
       "2352    1\n",
       "255     0\n",
       "1972    0\n",
       "2034    1\n",
       "Name: label, dtype: int64"
      ]
     },
     "execution_count": 11,
     "metadata": {},
     "output_type": "execute_result"
    }
   ],
   "source": [
    "y_train_encode = y_train.apply(lambda x : {label : i for i, label in enumerate(labels)}.get(x))\n",
    "y_train_encode.head()"
   ]
  },
  {
   "attachments": {},
   "cell_type": "markdown",
   "metadata": {},
   "source": [
    "Tính toán trọng số của lớp cho từng lớp"
   ]
  },
  {
   "cell_type": "code",
   "execution_count": 12,
   "metadata": {},
   "outputs": [
    {
     "data": {
      "text/plain": [
       "{0: 0.7668202764976959, 1: 0.9881235154394299, 2: 1.4622144112478033}"
      ]
     },
     "execution_count": 12,
     "metadata": {},
     "output_type": "execute_result"
    }
   ],
   "source": [
    "y_encode_label = {label : i for i, label in enumerate(labels)}\n",
    "\n",
    "class_weight = {y_encode_label.get(k) : class_weight.get(k) for k in class_weight}\n",
    "class_weight"
   ]
  },
  {
   "attachments": {},
   "cell_type": "markdown",
   "metadata": {},
   "source": [
    "## 2.2. Huấn luyện mô hình:"
   ]
  },
  {
   "attachments": {},
   "cell_type": "markdown",
   "metadata": {},
   "source": [
    "Huấn luyện thử các mô hình đặc trưng"
   ]
  },
  {
   "cell_type": "code",
   "execution_count": 13,
   "metadata": {},
   "outputs": [
    {
     "name": "stderr",
     "output_type": "stream",
     "text": [
      "15:02:41 root INFO: Saving figure 'RemoveStopwordLogisticRegressionTFIDFDefault' ...\n",
      "\t\tat Line 62 [save_fig() in utils.py, utils]\n",
      "15:02:41 root INFO: Saved figure 'RemoveStopwordLogisticRegressionTFIDFDefault'! File location: e:\\Learn Machine Learning\\Project\\Opinion Classifier\\res\\tf-idf\\image\\RemoveStopwordLogisticRegressionTFIDFDefault.png\n",
      "\t\tat Line 66 [save_fig() in utils.py, utils]\n"
     ]
    },
    {
     "data": {
      "image/png": "[encoded data removed]",
      "text/plain": [
       "<Figure size 640x480 with 2 Axes>"
      ]
     },
     "metadata": {},
     "output_type": "display_data"
    },
    {
     "name": "stderr",
     "output_type": "stream",
     "text": [
      "15:02:42 root INFO: \n",
      "Average: None\n",
      "Precision:\t[0.73439153 0.63552833 0.55025126]\n",
      "Recall:\t\t[0.79953917 0.6166419  0.48131868]\n",
      "--> F1-score:\t[0.76558191 0.62594268 0.51348183]\n",
      "\t\tat Line 241 [get_reported_score() in utils.py, utils]\n"
     ]
    },
    {
     "data": {
      "text/plain": [
       "(array([0.73439153, 0.63552833, 0.55025126]),\n",
       " array([0.79953917, 0.6166419 , 0.48131868]),\n",
       " array([0.76558191, 0.62594268, 0.51348183]))"
      ]
     },
     "execution_count": 13,
     "metadata": {},
     "output_type": "execute_result"
    }
   ],
   "source": [
    "lgt_reg = LogisticRegression(random_state=42, multi_class=\"multinomial\", fit_intercept=True)\n",
    "\n",
    "lgt_reg.fit(X_train, y_train_encode)\n",
    "\n",
    "measure_score(lgt_reg, X_train, y_train_encode, average=None, labels=labels, cv=10, fig_title=\"RemoveStopwordLogisticRegressionTFIDFDefault\")\n"
   ]
  },
  {
   "cell_type": "code",
   "execution_count": 14,
   "metadata": {},
   "outputs": [
    {
     "name": "stderr",
     "output_type": "stream",
     "text": [
      "23:39:25 root INFO: Saving figure 'RemoveStopwordLogisticRegressionTFIDFDefault2' ...\n",
      "\t\tat Line 62 [save_fig() in utils.py, utils]\n",
      "23:39:25 root INFO: Saved figure 'RemoveStopwordLogisticRegressionTFIDFDefault2'! File location: e:\\Learn Machine Learning\\Project\\Opinion Classifier\\res\\tf-idf\\image\\RemoveStopwordLogisticRegressionTFIDFDefault2.png\n",
      "\t\tat Line 66 [save_fig() in utils.py, utils]\n"
     ]
    },
    {
     "data": {
      "image/png": "[encoded data removed]",
      "text/plain": [
       "<Figure size 640x480 with 2 Axes>"
      ]
     },
     "metadata": {},
     "output_type": "display_data"
    },
    {
     "name": "stderr",
     "output_type": "stream",
     "text": [
      "23:39:26 root INFO: \n",
      "Average: None\n",
      "Precision:\t[0.74644809 0.64208909 0.53488372]\n",
      "Recall:\t\t[0.78686636 0.62109955 0.50549451]\n",
      "--> F1-score:\t[0.76612451 0.63141994 0.51977401]\n",
      "\t\tat Line 241 [get_reported_score() in utils.py, utils]\n"
     ]
    },
    {
     "data": {
      "text/plain": [
       "(array([0.74644809, 0.64208909, 0.53488372]),\n",
       " array([0.78686636, 0.62109955, 0.50549451]),\n",
       " array([0.76612451, 0.63141994, 0.51977401]))"
      ]
     },
     "execution_count": 14,
     "metadata": {},
     "output_type": "execute_result"
    }
   ],
   "source": [
    "lgt_reg = LogisticRegression(\n",
    "    random_state=42,\n",
    "    multi_class=\"multinomial\",\n",
    "    fit_intercept=True,\n",
    "    class_weight=class_weight,\n",
    "    max_iter=5000\n",
    ")\n",
    "\n",
    "# lgt_reg.fit(X_train, y_train_encode)\n",
    "\n",
    "measure_score(lgt_reg, X_train, y_train_encode, average=None, labels=labels, cv=10, fig_title=\"RemoveStopwordLogisticRegressionTFIDFDefault2\")"
   ]
  },
  {
   "attachments": {},
   "cell_type": "markdown",
   "metadata": {},
   "source": [
    "Tinh chỉnh tham số mô hình khi no-scaler"
   ]
  },
  {
   "cell_type": "code",
   "execution_count": 14,
   "metadata": {},
   "outputs": [
    {
     "name": "stdout",
     "output_type": "stream",
     "text": [
      "Fitting 5 folds for each of 60 candidates, totalling 300 fits\n"
     ]
    },
    {
     "name": "stderr",
     "output_type": "stream",
     "text": [
      "[Parallel(n_jobs=1)]: Using backend SequentialBackend with 1 concurrent workers.\n",
      "[Parallel(n_jobs=1)]: Done   1 out of   1 | elapsed:    7.7s remaining:    0.0s\n",
      "[Parallel(n_jobs=1)]: Done   1 out of   1 | elapsed:    7.7s finished\n",
      "16:08:10 root INFO: Best esitmator params: {'C': 0.006723357536499335, 'penalty': 'l2'}\n",
      "\t\tat Line 28 [<module>() in 2135894922.py, 2135894922]\n",
      "[Parallel(n_jobs=1)]: Using backend SequentialBackend with 1 concurrent workers.\n",
      "[Parallel(n_jobs=1)]: Done   1 out of   1 | elapsed:    6.3s remaining:    0.0s\n",
      "[Parallel(n_jobs=1)]: Done   1 out of   1 | elapsed:    6.3s finished\n",
      "[Parallel(n_jobs=1)]: Using backend SequentialBackend with 1 concurrent workers.\n",
      "[Parallel(n_jobs=1)]: Done   1 out of   1 | elapsed:    5.5s remaining:    0.0s\n",
      "[Parallel(n_jobs=1)]: Done   1 out of   1 | elapsed:    5.5s finished\n",
      "[Parallel(n_jobs=1)]: Using backend SequentialBackend with 1 concurrent workers.\n",
      "[Parallel(n_jobs=1)]: Done   1 out of   1 | elapsed:    6.0s remaining:    0.0s\n",
      "[Parallel(n_jobs=1)]: Done   1 out of   1 | elapsed:    6.0s finished\n",
      "[Parallel(n_jobs=1)]: Using backend SequentialBackend with 1 concurrent workers.\n",
      "[Parallel(n_jobs=1)]: Done   1 out of   1 | elapsed:    5.5s remaining:    0.0s\n",
      "[Parallel(n_jobs=1)]: Done   1 out of   1 | elapsed:    5.5s finished\n",
      "[Parallel(n_jobs=1)]: Using backend SequentialBackend with 1 concurrent workers.\n",
      "[Parallel(n_jobs=1)]: Done   1 out of   1 | elapsed:    5.7s remaining:    0.0s\n",
      "[Parallel(n_jobs=1)]: Done   1 out of   1 | elapsed:    5.7s finished\n",
      "[Parallel(n_jobs=1)]: Using backend SequentialBackend with 1 concurrent workers.\n",
      "[Parallel(n_jobs=1)]: Done   1 out of   1 | elapsed:    5.2s remaining:    0.0s\n",
      "[Parallel(n_jobs=1)]: Done   1 out of   1 | elapsed:    5.2s finished\n",
      "[Parallel(n_jobs=1)]: Using backend SequentialBackend with 1 concurrent workers.\n",
      "[Parallel(n_jobs=1)]: Done   1 out of   1 | elapsed:    6.0s remaining:    0.0s\n",
      "[Parallel(n_jobs=1)]: Done   1 out of   1 | elapsed:    6.0s finished\n",
      "[Parallel(n_jobs=1)]: Using backend SequentialBackend with 1 concurrent workers.\n",
      "[Parallel(n_jobs=1)]: Done   1 out of   1 | elapsed:    5.6s remaining:    0.0s\n",
      "[Parallel(n_jobs=1)]: Done   1 out of   1 | elapsed:    5.6s finished\n",
      "[Parallel(n_jobs=1)]: Using backend SequentialBackend with 1 concurrent workers.\n",
      "[Parallel(n_jobs=1)]: Done   1 out of   1 | elapsed:    5.5s remaining:    0.0s\n",
      "[Parallel(n_jobs=1)]: Done   1 out of   1 | elapsed:    5.5s finished\n",
      "[Parallel(n_jobs=1)]: Using backend SequentialBackend with 1 concurrent workers.\n",
      "[Parallel(n_jobs=1)]: Done   1 out of   1 | elapsed:    6.0s remaining:    0.0s\n",
      "[Parallel(n_jobs=1)]: Done   1 out of   1 | elapsed:    6.0s finished\n",
      "16:09:12 root INFO: Saving figure 'RemoveStopwordLogisticRegressionGridSearch' ...\n",
      "\t\tat Line 62 [save_fig() in utils.py, utils]\n",
      "16:09:13 root INFO: Saved figure 'RemoveStopwordLogisticRegressionGridSearch'! File location: e:\\Learn Machine Learning\\Project\\Opinion Classifier\\res\\tf-idf\\image\\RemoveStopwordLogisticRegressionGridSearch.png\n",
      "\t\tat Line 66 [save_fig() in utils.py, utils]\n"
     ]
    },
    {
     "data": {
      "image/png": "[encoded data removed]",
      "text/plain": [
       "<Figure size 640x480 with 2 Axes>"
      ]
     },
     "metadata": {},
     "output_type": "display_data"
    },
    {
     "name": "stderr",
     "output_type": "stream",
     "text": [
      "16:09:13 root INFO: \n",
      "Average: None\n",
      "Precision:\t[0.80876979 0.68025078 0.51769088]\n",
      "Recall:\t\t[0.76497696 0.6448737  0.61098901]\n",
      "--> F1-score:\t[0.78626406 0.66209001 0.56048387]\n",
      "\t\tat Line 241 [get_reported_score() in utils.py, utils]\n"
     ]
    },
    {
     "data": {
      "text/plain": [
       "(array([0.80876979, 0.68025078, 0.51769088]),\n",
       " array([0.76497696, 0.6448737 , 0.61098901]),\n",
       " array([0.78626406, 0.66209001, 0.56048387]))"
      ]
     },
     "execution_count": 14,
     "metadata": {},
     "output_type": "execute_result"
    }
   ],
   "source": [
    "lgt_reg_params = {\n",
    "    \"C\" : np.logspace(-3, 3, 30),\n",
    "    \"penalty\" : ['l2', None],\n",
    "    # \"max_iter\" : [100, 500, 1000, 2000, 5000],\n",
    "    # \"tol\" : [1e-6, 1e-5, 1e-4]\n",
    "}\n",
    "\n",
    "lgt_reg_grid = GridSearchCV(\n",
    "    LogisticRegression(\n",
    "        random_state=42,\n",
    "        multi_class=\"multinomial\",\n",
    "        fit_intercept=True,\n",
    "        class_weight=class_weight,\n",
    "        max_iter=5000,\n",
    "        verbose=4,\n",
    "        warm_start=True,\n",
    "    ),\n",
    "    lgt_reg_params,\n",
    "    scoring=\"f1_weighted\",\n",
    "    n_jobs=-1,\n",
    "    cv=5,\n",
    "    verbose=4,\n",
    "    return_train_score=True,\n",
    ")\n",
    "\n",
    "lgt_reg_grid.fit(X_train, y_train_encode)\n",
    "\n",
    "logging.info(\"Best esitmator params: \" + str(lgt_reg_grid.best_params_))\n",
    "\n",
    "measure_score(lgt_reg_grid.best_estimator_, X_train, y_train_encode, None, labels=labels, cv=10, fig_title=\"RemoveStopwordLogisticRegressionGridSearch\")"
   ]
  },
  {
   "cell_type": "code",
   "execution_count": 15,
   "metadata": {},
   "outputs": [
    {
     "name": "stderr",
     "output_type": "stream",
     "text": [
      "16:09:40 root INFO: Đang lưu lại mô hình...\n",
      "\t\tat Line 88 [save_model() in utils.py, utils]\n",
      "16:09:40 root INFO: Lưu thành công!\n",
      "\t\tat Line 92 [save_model() in utils.py, utils]\n"
     ]
    }
   ],
   "source": [
    "save_model(\"remove_stopword_logistic_regression.pkl\", lgt_reg_grid.best_estimator_)"
   ]
  },
  {
   "attachments": {},
   "cell_type": "markdown",
   "metadata": {},
   "source": [
    "Kiểm thử mô hình với tập kiểm thử :"
   ]
  },
  {
   "cell_type": "code",
   "execution_count": 18,
   "metadata": {},
   "outputs": [
    {
     "name": "stdout",
     "output_type": "stream",
     "text": [
      "              precision    recall  f1-score   support\n",
      "\n",
      "           0       0.78      0.73      0.76       217\n",
      "           1       0.66      0.64      0.65       169\n",
      "           2       0.53      0.61      0.57       114\n",
      "\n",
      "    accuracy                           0.67       500\n",
      "   macro avg       0.66      0.66      0.66       500\n",
      "weighted avg       0.68      0.67      0.68       500\n",
      "\n"
     ]
    }
   ],
   "source": [
    "y_test_encode = y_testing.apply(lambda x : {label : i for i, label in enumerate(labels)}.get(x))\n",
    "\n",
    "y_test_pred = lgt_reg_grid.best_estimator_.predict(X_testing)\n",
    "\n",
    "print(classification_report(y_test_encode, y_test_pred))\n"
   ]
  },
  {
   "attachments": {},
   "cell_type": "markdown",
   "metadata": {},
   "source": [
    "# 3. Sử dụng oversampling để huấn luyện:"
   ]
  },
  {
   "attachments": {},
   "cell_type": "markdown",
   "metadata": {},
   "source": [
    "Sử dụng over-sample để khắc phục tình trạng imbalance của lớp:"
   ]
  },
  {
   "cell_type": "code",
   "execution_count": 20,
   "metadata": {},
   "outputs": [
    {
     "data": {
      "text/html": [
       "<div>\n",
       "<style scoped>\n",
       "    .dataframe tbody tr th:only-of-type {\n",
       "        vertical-align: middle;\n",
       "    }\n",
       "\n",
       "    .dataframe tbody tr th {\n",
       "        vertical-align: top;\n",
       "    }\n",
       "\n",
       "    .dataframe thead th {\n",
       "        text-align: right;\n",
       "    }\n",
       "</style>\n",
       "<table border=\"1\" class=\"dataframe\">\n",
       "  <thead>\n",
       "    <tr style=\"text-align: right;\">\n",
       "      <th></th>\n",
       "      <th>thạc</th>\n",
       "      <th>666</th>\n",
       "      <th>tham_khảo</th>\n",
       "      <th>danh</th>\n",
       "      <th>gấp_bội</th>\n",
       "      <th>nhàg</th>\n",
       "      <th>ứng</th>\n",
       "      <th>gài</th>\n",
       "      <th>mặc_dù</th>\n",
       "      <th>rộng_rãi</th>\n",
       "      <th>...</th>\n",
       "      <th>nghìn</th>\n",
       "      <th>center</th>\n",
       "      <th>trượt_tín</th>\n",
       "      <th>bậc</th>\n",
       "      <th>tự_động</th>\n",
       "      <th>cmt</th>\n",
       "      <th>sứ_mệnh</th>\n",
       "      <th>live</th>\n",
       "      <th>địa_phương</th>\n",
       "      <th>label</th>\n",
       "    </tr>\n",
       "  </thead>\n",
       "  <tbody>\n",
       "    <tr>\n",
       "      <th>604</th>\n",
       "      <td>0.0</td>\n",
       "      <td>0.0</td>\n",
       "      <td>0.0</td>\n",
       "      <td>0.0</td>\n",
       "      <td>0.0</td>\n",
       "      <td>0.0</td>\n",
       "      <td>0.0</td>\n",
       "      <td>0.0</td>\n",
       "      <td>0.0</td>\n",
       "      <td>0.0</td>\n",
       "      <td>...</td>\n",
       "      <td>0.0</td>\n",
       "      <td>0.0</td>\n",
       "      <td>0.0</td>\n",
       "      <td>0.0</td>\n",
       "      <td>0.0</td>\n",
       "      <td>0.0</td>\n",
       "      <td>0.000000</td>\n",
       "      <td>0.0</td>\n",
       "      <td>0.0</td>\n",
       "      <td>Negative</td>\n",
       "    </tr>\n",
       "    <tr>\n",
       "      <th>2352</th>\n",
       "      <td>0.0</td>\n",
       "      <td>0.0</td>\n",
       "      <td>0.0</td>\n",
       "      <td>0.0</td>\n",
       "      <td>0.0</td>\n",
       "      <td>0.0</td>\n",
       "      <td>0.0</td>\n",
       "      <td>0.0</td>\n",
       "      <td>0.0</td>\n",
       "      <td>0.0</td>\n",
       "      <td>...</td>\n",
       "      <td>0.0</td>\n",
       "      <td>0.0</td>\n",
       "      <td>0.0</td>\n",
       "      <td>0.0</td>\n",
       "      <td>0.0</td>\n",
       "      <td>0.0</td>\n",
       "      <td>0.000000</td>\n",
       "      <td>0.0</td>\n",
       "      <td>0.0</td>\n",
       "      <td>Neutral</td>\n",
       "    </tr>\n",
       "    <tr>\n",
       "      <th>255</th>\n",
       "      <td>0.0</td>\n",
       "      <td>0.0</td>\n",
       "      <td>0.0</td>\n",
       "      <td>0.0</td>\n",
       "      <td>0.0</td>\n",
       "      <td>0.0</td>\n",
       "      <td>0.0</td>\n",
       "      <td>0.0</td>\n",
       "      <td>0.0</td>\n",
       "      <td>0.0</td>\n",
       "      <td>...</td>\n",
       "      <td>0.0</td>\n",
       "      <td>0.0</td>\n",
       "      <td>0.0</td>\n",
       "      <td>0.0</td>\n",
       "      <td>0.0</td>\n",
       "      <td>0.0</td>\n",
       "      <td>7.436551</td>\n",
       "      <td>0.0</td>\n",
       "      <td>0.0</td>\n",
       "      <td>Positive</td>\n",
       "    </tr>\n",
       "    <tr>\n",
       "      <th>1972</th>\n",
       "      <td>0.0</td>\n",
       "      <td>0.0</td>\n",
       "      <td>0.0</td>\n",
       "      <td>0.0</td>\n",
       "      <td>0.0</td>\n",
       "      <td>0.0</td>\n",
       "      <td>0.0</td>\n",
       "      <td>0.0</td>\n",
       "      <td>0.0</td>\n",
       "      <td>0.0</td>\n",
       "      <td>...</td>\n",
       "      <td>0.0</td>\n",
       "      <td>0.0</td>\n",
       "      <td>0.0</td>\n",
       "      <td>0.0</td>\n",
       "      <td>0.0</td>\n",
       "      <td>0.0</td>\n",
       "      <td>0.000000</td>\n",
       "      <td>0.0</td>\n",
       "      <td>0.0</td>\n",
       "      <td>Positive</td>\n",
       "    </tr>\n",
       "    <tr>\n",
       "      <th>2034</th>\n",
       "      <td>0.0</td>\n",
       "      <td>0.0</td>\n",
       "      <td>0.0</td>\n",
       "      <td>0.0</td>\n",
       "      <td>0.0</td>\n",
       "      <td>0.0</td>\n",
       "      <td>0.0</td>\n",
       "      <td>0.0</td>\n",
       "      <td>0.0</td>\n",
       "      <td>0.0</td>\n",
       "      <td>...</td>\n",
       "      <td>0.0</td>\n",
       "      <td>0.0</td>\n",
       "      <td>0.0</td>\n",
       "      <td>0.0</td>\n",
       "      <td>0.0</td>\n",
       "      <td>0.0</td>\n",
       "      <td>0.000000</td>\n",
       "      <td>0.0</td>\n",
       "      <td>0.0</td>\n",
       "      <td>Neutral</td>\n",
       "    </tr>\n",
       "    <tr>\n",
       "      <th>1925</th>\n",
       "      <td>0.0</td>\n",
       "      <td>0.0</td>\n",
       "      <td>0.0</td>\n",
       "      <td>0.0</td>\n",
       "      <td>0.0</td>\n",
       "      <td>0.0</td>\n",
       "      <td>0.0</td>\n",
       "      <td>0.0</td>\n",
       "      <td>0.0</td>\n",
       "      <td>0.0</td>\n",
       "      <td>...</td>\n",
       "      <td>0.0</td>\n",
       "      <td>0.0</td>\n",
       "      <td>0.0</td>\n",
       "      <td>0.0</td>\n",
       "      <td>0.0</td>\n",
       "      <td>0.0</td>\n",
       "      <td>0.000000</td>\n",
       "      <td>0.0</td>\n",
       "      <td>0.0</td>\n",
       "      <td>Positive</td>\n",
       "    </tr>\n",
       "    <tr>\n",
       "      <th>447</th>\n",
       "      <td>0.0</td>\n",
       "      <td>0.0</td>\n",
       "      <td>0.0</td>\n",
       "      <td>0.0</td>\n",
       "      <td>0.0</td>\n",
       "      <td>0.0</td>\n",
       "      <td>0.0</td>\n",
       "      <td>0.0</td>\n",
       "      <td>0.0</td>\n",
       "      <td>0.0</td>\n",
       "      <td>...</td>\n",
       "      <td>0.0</td>\n",
       "      <td>0.0</td>\n",
       "      <td>0.0</td>\n",
       "      <td>0.0</td>\n",
       "      <td>0.0</td>\n",
       "      <td>0.0</td>\n",
       "      <td>0.000000</td>\n",
       "      <td>0.0</td>\n",
       "      <td>0.0</td>\n",
       "      <td>Positive</td>\n",
       "    </tr>\n",
       "    <tr>\n",
       "      <th>738</th>\n",
       "      <td>0.0</td>\n",
       "      <td>0.0</td>\n",
       "      <td>0.0</td>\n",
       "      <td>0.0</td>\n",
       "      <td>0.0</td>\n",
       "      <td>0.0</td>\n",
       "      <td>0.0</td>\n",
       "      <td>0.0</td>\n",
       "      <td>0.0</td>\n",
       "      <td>0.0</td>\n",
       "      <td>...</td>\n",
       "      <td>0.0</td>\n",
       "      <td>0.0</td>\n",
       "      <td>0.0</td>\n",
       "      <td>0.0</td>\n",
       "      <td>0.0</td>\n",
       "      <td>0.0</td>\n",
       "      <td>0.000000</td>\n",
       "      <td>0.0</td>\n",
       "      <td>0.0</td>\n",
       "      <td>Positive</td>\n",
       "    </tr>\n",
       "    <tr>\n",
       "      <th>155</th>\n",
       "      <td>0.0</td>\n",
       "      <td>0.0</td>\n",
       "      <td>0.0</td>\n",
       "      <td>0.0</td>\n",
       "      <td>0.0</td>\n",
       "      <td>0.0</td>\n",
       "      <td>0.0</td>\n",
       "      <td>0.0</td>\n",
       "      <td>0.0</td>\n",
       "      <td>0.0</td>\n",
       "      <td>...</td>\n",
       "      <td>0.0</td>\n",
       "      <td>0.0</td>\n",
       "      <td>0.0</td>\n",
       "      <td>0.0</td>\n",
       "      <td>0.0</td>\n",
       "      <td>0.0</td>\n",
       "      <td>0.000000</td>\n",
       "      <td>0.0</td>\n",
       "      <td>0.0</td>\n",
       "      <td>Positive</td>\n",
       "    </tr>\n",
       "    <tr>\n",
       "      <th>274</th>\n",
       "      <td>0.0</td>\n",
       "      <td>0.0</td>\n",
       "      <td>0.0</td>\n",
       "      <td>0.0</td>\n",
       "      <td>0.0</td>\n",
       "      <td>0.0</td>\n",
       "      <td>0.0</td>\n",
       "      <td>0.0</td>\n",
       "      <td>0.0</td>\n",
       "      <td>0.0</td>\n",
       "      <td>...</td>\n",
       "      <td>0.0</td>\n",
       "      <td>0.0</td>\n",
       "      <td>0.0</td>\n",
       "      <td>0.0</td>\n",
       "      <td>0.0</td>\n",
       "      <td>0.0</td>\n",
       "      <td>0.000000</td>\n",
       "      <td>0.0</td>\n",
       "      <td>0.0</td>\n",
       "      <td>Positive</td>\n",
       "    </tr>\n",
       "  </tbody>\n",
       "</table>\n",
       "<p>10 rows × 5345 columns</p>\n",
       "</div>"
      ],
      "text/plain": [
       "      thạc  666  tham_khảo  danh  gấp_bội  nhàg  ứng  gài  mặc_dù  rộng_rãi  \\\n",
       "604    0.0  0.0        0.0   0.0      0.0   0.0  0.0  0.0     0.0       0.0   \n",
       "2352   0.0  0.0        0.0   0.0      0.0   0.0  0.0  0.0     0.0       0.0   \n",
       "255    0.0  0.0        0.0   0.0      0.0   0.0  0.0  0.0     0.0       0.0   \n",
       "1972   0.0  0.0        0.0   0.0      0.0   0.0  0.0  0.0     0.0       0.0   \n",
       "2034   0.0  0.0        0.0   0.0      0.0   0.0  0.0  0.0     0.0       0.0   \n",
       "1925   0.0  0.0        0.0   0.0      0.0   0.0  0.0  0.0     0.0       0.0   \n",
       "447    0.0  0.0        0.0   0.0      0.0   0.0  0.0  0.0     0.0       0.0   \n",
       "738    0.0  0.0        0.0   0.0      0.0   0.0  0.0  0.0     0.0       0.0   \n",
       "155    0.0  0.0        0.0   0.0      0.0   0.0  0.0  0.0     0.0       0.0   \n",
       "274    0.0  0.0        0.0   0.0      0.0   0.0  0.0  0.0     0.0       0.0   \n",
       "\n",
       "      ...  nghìn  center  trượt_tín  bậc  tự_động  cmt   sứ_mệnh  live  \\\n",
       "604   ...    0.0     0.0        0.0  0.0      0.0  0.0  0.000000   0.0   \n",
       "2352  ...    0.0     0.0        0.0  0.0      0.0  0.0  0.000000   0.0   \n",
       "255   ...    0.0     0.0        0.0  0.0      0.0  0.0  7.436551   0.0   \n",
       "1972  ...    0.0     0.0        0.0  0.0      0.0  0.0  0.000000   0.0   \n",
       "2034  ...    0.0     0.0        0.0  0.0      0.0  0.0  0.000000   0.0   \n",
       "1925  ...    0.0     0.0        0.0  0.0      0.0  0.0  0.000000   0.0   \n",
       "447   ...    0.0     0.0        0.0  0.0      0.0  0.0  0.000000   0.0   \n",
       "738   ...    0.0     0.0        0.0  0.0      0.0  0.0  0.000000   0.0   \n",
       "155   ...    0.0     0.0        0.0  0.0      0.0  0.0  0.000000   0.0   \n",
       "274   ...    0.0     0.0        0.0  0.0      0.0  0.0  0.000000   0.0   \n",
       "\n",
       "      địa_phương     label  \n",
       "604          0.0  Negative  \n",
       "2352         0.0   Neutral  \n",
       "255          0.0  Positive  \n",
       "1972         0.0  Positive  \n",
       "2034         0.0   Neutral  \n",
       "1925         0.0  Positive  \n",
       "447          0.0  Positive  \n",
       "738          0.0  Positive  \n",
       "155          0.0  Positive  \n",
       "274          0.0  Positive  \n",
       "\n",
       "[10 rows x 5345 columns]"
      ]
     },
     "execution_count": 20,
     "metadata": {},
     "output_type": "execute_result"
    }
   ],
   "source": [
    "training_set.head(10)"
   ]
  },
  {
   "attachments": {},
   "cell_type": "markdown",
   "metadata": {},
   "source": [
    "Tách và tính độ lớn các mẫu của từng lớp riêng biệt:"
   ]
  },
  {
   "cell_type": "code",
   "execution_count": 23,
   "metadata": {},
   "outputs": [],
   "source": [
    "training_set_positive : pd.DataFrame = training_set[training_set[\"label\"] == \"Positive\"]\n",
    "training_set_negative : pd.DataFrame = training_set[training_set[\"label\"] == \"Negative\"]\n",
    "training_set_neutral : pd.DataFrame = training_set[training_set[\"label\"] == \"Neutral\"]"
   ]
  },
  {
   "cell_type": "code",
   "execution_count": 24,
   "metadata": {},
   "outputs": [
    {
     "name": "stdout",
     "output_type": "stream",
     "text": [
      "868\n",
      "455\n",
      "673\n"
     ]
    }
   ],
   "source": [
    "print(len(training_set_positive))\n",
    "print(len(training_set_negative))\n",
    "print(len(training_set_neutral))"
   ]
  },
  {
   "attachments": {},
   "cell_type": "markdown",
   "metadata": {},
   "source": [
    "chọn ra các mẫu ngẫu nhiên trong các tập negative và neutral, sau đó nối thêm vào tập ban đầu để mở rộng thêm tập negative và tập neutral"
   ]
  },
  {
   "cell_type": "code",
   "execution_count": 25,
   "metadata": {},
   "outputs": [],
   "source": [
    "training_set_negative_ovs = training_set_negative.sample(len(training_set_positive), replace=True)\n",
    "training_set_neutral_ovs = training_set_neutral.sample(len(training_set_positive), replace=True)\n"
   ]
  },
  {
   "cell_type": "code",
   "execution_count": 26,
   "metadata": {},
   "outputs": [
    {
     "name": "stdout",
     "output_type": "stream",
     "text": [
      "868\n",
      "868\n",
      "868\n"
     ]
    }
   ],
   "source": [
    "print(len(training_set_positive))\n",
    "print(len(training_set_negative_ovs))\n",
    "print(len(training_set_neutral_ovs))"
   ]
  },
  {
   "attachments": {},
   "cell_type": "markdown",
   "metadata": {},
   "source": [
    "Nối ba tập đã oversample lại và tạo thành tập hoàn chỉnh"
   ]
  },
  {
   "cell_type": "code",
   "execution_count": 27,
   "metadata": {},
   "outputs": [],
   "source": [
    "training_set_ovs = pd.concat([training_set_positive, training_set_negative_ovs, training_set_neutral_ovs])"
   ]
  },
  {
   "cell_type": "code",
   "execution_count": 28,
   "metadata": {},
   "outputs": [
    {
     "data": {
      "text/plain": [
       "(2604, 5345)"
      ]
     },
     "execution_count": 28,
     "metadata": {},
     "output_type": "execute_result"
    }
   ],
   "source": [
    "training_set_ovs.shape"
   ]
  },
  {
   "cell_type": "code",
   "execution_count": 29,
   "metadata": {},
   "outputs": [],
   "source": [
    "X_train_ovs : pd.DataFrame = training_set_ovs.drop(columns=\"label\", axis=1)\n",
    "y_train_ovs : pd.Series = training_set_ovs[\"label\"].copy()"
   ]
  },
  {
   "cell_type": "code",
   "execution_count": 30,
   "metadata": {},
   "outputs": [
    {
     "data": {
      "text/plain": [
       "0    868\n",
       "2    868\n",
       "1    868\n",
       "Name: label, dtype: int64"
      ]
     },
     "execution_count": 30,
     "metadata": {},
     "output_type": "execute_result"
    }
   ],
   "source": [
    "y_train_encode_ovs = y_train_ovs.apply(lambda x : {label : i for i, label in enumerate(labels)}.get(x))\n",
    "\n",
    "y_train_encode_ovs.value_counts()"
   ]
  },
  {
   "cell_type": "code",
   "execution_count": null,
   "metadata": {},
   "outputs": [
    {
     "name": "stderr",
     "output_type": "stream",
     "text": [
      "01:38:53 root INFO: Saving figure 'LogisticRegressionOversample' ...\n",
      "\t\tat Line 62 [save_fig() in utils.py, utils]\n",
      "01:38:54 root INFO: Saved figure 'LogisticRegressionOversample'! File location: e:\\Learn Machine Learning\\Project\\Opinion Classifier\\res\\tf-idf\\image\\LogisticRegressionOversample.png\n",
      "\t\tat Line 66 [save_fig() in utils.py, utils]\n"
     ]
    },
    {
     "data": {
      "image/png": "[encoded data removed]",
      "text/plain": [
       "<Figure size 640x480 with 2 Axes>"
      ]
     },
     "metadata": {},
     "output_type": "display_data"
    },
    {
     "name": "stderr",
     "output_type": "stream",
     "text": [
      "01:38:54 root INFO: \n",
      "Average: None\n",
      "Precision:\t[0.82081686 0.80143541 0.82378378]\n",
      "Recall:\t\t[0.74166667 0.79761905 0.90714286]\n",
      "--> F1-score:\t[0.77923702 0.79952267 0.86345609]\n",
      "\t\tat Line 241 [get_reported_score() in utils.py, utils]\n"
     ]
    },
    {
     "data": {
      "text/plain": [
       "(array([0.82081686, 0.80143541, 0.82378378]),\n",
       " array([0.74166667, 0.79761905, 0.90714286]),\n",
       " array([0.77923702, 0.79952267, 0.86345609]))"
      ]
     },
     "metadata": {},
     "output_type": "display_data"
    }
   ],
   "source": [
    "lgt_reg = LogisticRegression(\n",
    "    random_state=42,\n",
    "    multi_class=\"multinomial\",\n",
    "    fit_intercept=True,\n",
    "    class_weight=\"balanced\",\n",
    "    max_iter=5000,\n",
    ")\n",
    "\n",
    "lgt_reg.fit(X_train_resample, y_train_encode_resample)\n",
    "\n",
    "measure_score(lgt_reg, X_train_resample, y_train_encode_resample, average=None, labels=[\"Positive\", \"Negative\", \"Neutral\"], cv=10, fig_title=\"LogisticRegressionOversample\")"
   ]
  },
  {
   "attachments": {},
   "cell_type": "markdown",
   "metadata": {},
   "source": [
    "Wao! Mô hình sau khi sử dụng oversampling cho ra một kết quả chính xác cao hơn hẳn! Tuy nhiên, có thể mô hình đang bị overfitting dữ liệu nên nó sẽ thể hiện kém khi gặp tập dữ liệu test."
   ]
  },
  {
   "cell_type": "code",
   "execution_count": null,
   "metadata": {},
   "outputs": [
    {
     "data": {
      "text/plain": [
       "{'C': 1.0,\n",
       " 'class_weight': 'balanced',\n",
       " 'dual': False,\n",
       " 'fit_intercept': True,\n",
       " 'intercept_scaling': 1,\n",
       " 'l1_ratio': None,\n",
       " 'max_iter': 5000,\n",
       " 'multi_class': 'multinomial',\n",
       " 'n_jobs': None,\n",
       " 'penalty': 'l2',\n",
       " 'random_state': 42,\n",
       " 'solver': 'lbfgs',\n",
       " 'tol': 0.0001,\n",
       " 'verbose': 0,\n",
       " 'warm_start': False}"
      ]
     },
     "metadata": {},
     "output_type": "display_data"
    }
   ],
   "source": [
    "lgt_reg.get_params()"
   ]
  },
  {
   "attachments": {},
   "cell_type": "markdown",
   "metadata": {},
   "source": [
    "Tinh chỉnh mô hình trên"
   ]
  },
  {
   "cell_type": "code",
   "execution_count": 31,
   "metadata": {},
   "outputs": [
    {
     "name": "stdout",
     "output_type": "stream",
     "text": [
      "Fitting 5 folds for each of 60 candidates, totalling 300 fits\n"
     ]
    },
    {
     "name": "stderr",
     "output_type": "stream",
     "text": [
      "[Parallel(n_jobs=1)]: Using backend SequentialBackend with 1 concurrent workers.\n",
      "[Parallel(n_jobs=1)]: Done   1 out of   1 | elapsed:   17.0s remaining:    0.0s\n",
      "[Parallel(n_jobs=1)]: Done   1 out of   1 | elapsed:   17.0s finished\n",
      "17:03:37 root INFO: Best esitmator params: {'C': 0.3039195382313198, 'penalty': 'l2'}\n",
      "\t\tat Line 28 [<module>() in 4052079766.py, 4052079766]\n"
     ]
    },
    {
     "ename": "TypeError",
     "evalue": "can only concatenate str (not \"numpy.float64\") to str",
     "output_type": "error",
     "traceback": [
      "\u001b[1;31m---------------------------------------------------------------------------\u001b[0m",
      "\u001b[1;31mTypeError\u001b[0m                                 Traceback (most recent call last)",
      "Cell \u001b[1;32mIn[31], line 30\u001b[0m\n\u001b[0;32m     26\u001b[0m lgt_reg_grid\u001b[39m.\u001b[39mfit(X_train_ovs, y_train_encode_ovs)\n\u001b[0;32m     28\u001b[0m logging\u001b[39m.\u001b[39minfo(\u001b[39m\"\u001b[39m\u001b[39mBest esitmator params: \u001b[39m\u001b[39m\"\u001b[39m \u001b[39m+\u001b[39m \u001b[39mstr\u001b[39m(lgt_reg_grid\u001b[39m.\u001b[39mbest_params_))\n\u001b[1;32m---> 30\u001b[0m logging\u001b[39m.\u001b[39minfo(\u001b[39m\"\u001b[39;49m\u001b[39mScore: \u001b[39;49m\u001b[39m\"\u001b[39;49m \u001b[39m+\u001b[39;49m lgt_reg_grid\u001b[39m.\u001b[39;49mbest_score_)\n",
      "\u001b[1;31mTypeError\u001b[0m: can only concatenate str (not \"numpy.float64\") to str"
     ]
    }
   ],
   "source": [
    "lgt_reg_params = {\n",
    "    \"C\" : np.logspace(-3, 3, 30),\n",
    "    \"penalty\" : ['l2', None],\n",
    "    # \"max_iter\" : [100, 500, 1000, 2000, 5000],\n",
    "    # \"tol\" : [1e-6, 1e-5, 1e-4]\n",
    "}\n",
    "\n",
    "lgt_reg_grid = GridSearchCV(\n",
    "    LogisticRegression(\n",
    "        random_state=42,\n",
    "        multi_class=\"multinomial\",\n",
    "        fit_intercept=True,\n",
    "        max_iter=5000,\n",
    "        verbose=4,\n",
    "        warm_start=True,\n",
    "    ),\n",
    "    lgt_reg_params,\n",
    "    scoring=\"f1_weighted\",\n",
    "    n_jobs=-1,\n",
    "    cv=5,\n",
    "    verbose=4,\n",
    "    return_train_score=True,\n",
    ")\n",
    "\n",
    "lgt_reg_grid.fit(X_train_ovs, y_train_encode_ovs)\n",
    "\n",
    "logging.info(\"Best esitmator params: \" + str(lgt_reg_grid.best_params_))\n"
   ]
  },
  {
   "cell_type": "code",
   "execution_count": 32,
   "metadata": {},
   "outputs": [
    {
     "data": {
      "text/html": [
       "<style>#sk-container-id-1 {color: black;background-color: white;}#sk-container-id-1 pre{padding: 0;}#sk-container-id-1 div.sk-toggleable {background-color: white;}#sk-container-id-1 label.sk-toggleable__label {cursor: pointer;display: block;width: 100%;margin-bottom: 0;padding: 0.3em;box-sizing: border-box;text-align: center;}#sk-container-id-1 label.sk-toggleable__label-arrow:before {content: \"▸\";float: left;margin-right: 0.25em;color: #696969;}#sk-container-id-1 label.sk-toggleable__label-arrow:hover:before {color: black;}#sk-container-id-1 div.sk-estimator:hover label.sk-toggleable__label-arrow:before {color: black;}#sk-container-id-1 div.sk-toggleable__content {max-height: 0;max-width: 0;overflow: hidden;text-align: left;background-color: #f0f8ff;}#sk-container-id-1 div.sk-toggleable__content pre {margin: 0.2em;color: black;border-radius: 0.25em;background-color: #f0f8ff;}#sk-container-id-1 input.sk-toggleable__control:checked~div.sk-toggleable__content {max-height: 200px;max-width: 100%;overflow: auto;}#sk-container-id-1 input.sk-toggleable__control:checked~label.sk-toggleable__label-arrow:before {content: \"▾\";}#sk-container-id-1 div.sk-estimator input.sk-toggleable__control:checked~label.sk-toggleable__label {background-color: #d4ebff;}#sk-container-id-1 div.sk-label input.sk-toggleable__control:checked~label.sk-toggleable__label {background-color: #d4ebff;}#sk-container-id-1 input.sk-hidden--visually {border: 0;clip: rect(1px 1px 1px 1px);clip: rect(1px, 1px, 1px, 1px);height: 1px;margin: -1px;overflow: hidden;padding: 0;position: absolute;width: 1px;}#sk-container-id-1 div.sk-estimator {font-family: monospace;background-color: #f0f8ff;border: 1px dotted black;border-radius: 0.25em;box-sizing: border-box;margin-bottom: 0.5em;}#sk-container-id-1 div.sk-estimator:hover {background-color: #d4ebff;}#sk-container-id-1 div.sk-parallel-item::after {content: \"\";width: 100%;border-bottom: 1px solid gray;flex-grow: 1;}#sk-container-id-1 div.sk-label:hover label.sk-toggleable__label {background-color: #d4ebff;}#sk-container-id-1 div.sk-serial::before {content: \"\";position: absolute;border-left: 1px solid gray;box-sizing: border-box;top: 0;bottom: 0;left: 50%;z-index: 0;}#sk-container-id-1 div.sk-serial {display: flex;flex-direction: column;align-items: center;background-color: white;padding-right: 0.2em;padding-left: 0.2em;position: relative;}#sk-container-id-1 div.sk-item {position: relative;z-index: 1;}#sk-container-id-1 div.sk-parallel {display: flex;align-items: stretch;justify-content: center;background-color: white;position: relative;}#sk-container-id-1 div.sk-item::before, #sk-container-id-1 div.sk-parallel-item::before {content: \"\";position: absolute;border-left: 1px solid gray;box-sizing: border-box;top: 0;bottom: 0;left: 50%;z-index: -1;}#sk-container-id-1 div.sk-parallel-item {display: flex;flex-direction: column;z-index: 1;position: relative;background-color: white;}#sk-container-id-1 div.sk-parallel-item:first-child::after {align-self: flex-end;width: 50%;}#sk-container-id-1 div.sk-parallel-item:last-child::after {align-self: flex-start;width: 50%;}#sk-container-id-1 div.sk-parallel-item:only-child::after {width: 0;}#sk-container-id-1 div.sk-dashed-wrapped {border: 1px dashed gray;margin: 0 0.4em 0.5em 0.4em;box-sizing: border-box;padding-bottom: 0.4em;background-color: white;}#sk-container-id-1 div.sk-label label {font-family: monospace;font-weight: bold;display: inline-block;line-height: 1.2em;}#sk-container-id-1 div.sk-label-container {text-align: center;}#sk-container-id-1 div.sk-container {/* jupyter's `normalize.less` sets `[hidden] { display: none; }` but bootstrap.min.css set `[hidden] { display: none !important; }` so we also need the `!important` here to be able to override the default hidden behavior on the sphinx rendered scikit-learn.org. See: https://github.com/scikit-learn/scikit-learn/issues/21755 */display: inline-block !important;position: relative;}#sk-container-id-1 div.sk-text-repr-fallback {display: none;}</style><div id=\"sk-container-id-1\" class=\"sk-top-container\"><div class=\"sk-text-repr-fallback\"><pre>LogisticRegression(C=0.3039195382313198,\n",
       "                   class_weight={0: 0.7668202764976959, 1: 0.9881235154394299,\n",
       "                                 2: 1.4622144112478033},\n",
       "                   max_iter=5000, multi_class=&#x27;multinomial&#x27;, random_state=42,\n",
       "                   verbose=4, warm_start=True)</pre><b>In a Jupyter environment, please rerun this cell to show the HTML representation or trust the notebook. <br />On GitHub, the HTML representation is unable to render, please try loading this page with nbviewer.org.</b></div><div class=\"sk-container\" hidden><div class=\"sk-item\"><div class=\"sk-estimator sk-toggleable\"><input class=\"sk-toggleable__control sk-hidden--visually\" id=\"sk-estimator-id-1\" type=\"checkbox\" checked><label for=\"sk-estimator-id-1\" class=\"sk-toggleable__label sk-toggleable__label-arrow\">LogisticRegression</label><div class=\"sk-toggleable__content\"><pre>LogisticRegression(C=0.3039195382313198,\n",
       "                   class_weight={0: 0.7668202764976959, 1: 0.9881235154394299,\n",
       "                                 2: 1.4622144112478033},\n",
       "                   max_iter=5000, multi_class=&#x27;multinomial&#x27;, random_state=42,\n",
       "                   verbose=4, warm_start=True)</pre></div></div></div></div></div>"
      ],
      "text/plain": [
       "LogisticRegression(C=0.3039195382313198,\n",
       "                   class_weight={0: 0.7668202764976959, 1: 0.9881235154394299,\n",
       "                                 2: 1.4622144112478033},\n",
       "                   max_iter=5000, multi_class='multinomial', random_state=42,\n",
       "                   verbose=4, warm_start=True)"
      ]
     },
     "execution_count": 32,
     "metadata": {},
     "output_type": "execute_result"
    }
   ],
   "source": [
    "lgt_reg_grid.best_estimator_"
   ]
  },
  {
   "cell_type": "code",
   "execution_count": 33,
   "metadata": {},
   "outputs": [
    {
     "name": "stderr",
     "output_type": "stream",
     "text": [
      "17:04:51 root INFO: Score: 0.8615710707383629\n",
      "\t\tat Line 1 [<module>() in 2159969777.py, 2159969777]\n"
     ]
    }
   ],
   "source": [
    "logging.info(f\"Score: {lgt_reg_grid.best_score_}\")"
   ]
  },
  {
   "attachments": {},
   "cell_type": "markdown",
   "metadata": {},
   "source": [
    "Kiểm thử trên tập kiểm thử:"
   ]
  },
  {
   "cell_type": "code",
   "execution_count": 34,
   "metadata": {},
   "outputs": [
    {
     "name": "stdout",
     "output_type": "stream",
     "text": [
      "              precision    recall  f1-score   support\n",
      "\n",
      "           0       0.72      0.75      0.73       217\n",
      "           1       0.68      0.60      0.64       169\n",
      "           2       0.46      0.51      0.49       114\n",
      "\n",
      "    accuracy                           0.64       500\n",
      "   macro avg       0.62      0.62      0.62       500\n",
      "weighted avg       0.65      0.64      0.64       500\n",
      "\n"
     ]
    }
   ],
   "source": [
    "y_test_encode = y_testing.apply(lambda x : {label : i for i, label in enumerate(labels)}.get(x))\n",
    "\n",
    "y_test_pred = lgt_reg_grid.best_estimator_.predict(X_testing)\n",
    "\n",
    "print(classification_report(y_test_encode, y_test_pred))\n"
   ]
  },
  {
   "cell_type": "code",
   "execution_count": 35,
   "metadata": {},
   "outputs": [
    {
     "name": "stderr",
     "output_type": "stream",
     "text": [
      "02:06:00 root INFO: Đang lưu lại mô hình...\n",
      "\t\tat Line 88 [save_model() in utils.py, utils]\n",
      "02:06:00 root INFO: Lưu thành công!\n",
      "\t\tat Line 92 [save_model() in utils.py, utils]\n"
     ]
    }
   ],
   "source": [
    "save_model(\"ovs_not_remv_stopword_logistic_regression.pkl\", lgt_reg_grid.best_estimator_)"
   ]
  }
 ],
 "metadata": {
  "kernelspec": {
   "display_name": "Python 3",
   "language": "python",
   "name": "python3"
  },
  "language_info": {
   "codemirror_mode": {
    "name": "ipython",
    "version": 3
   },
   "file_extension": ".py",
   "mimetype": "text/x-python",
   "name": "python",
   "nbconvert_exporter": "python",
   "pygments_lexer": "ipython3",
   "version": "3.11.1"
  },
  "orig_nbformat": 4
 },
 "nbformat": 4,
 "nbformat_minor": 2
}

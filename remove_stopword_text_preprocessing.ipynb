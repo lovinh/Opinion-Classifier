{
 "cells": [
  {
   "cell_type": "code",
   "execution_count": 1,
   "metadata": {},
   "outputs": [],
   "source": [
    "import sys, os\n",
    "import pandas as pd\n",
    "import numpy as np\n",
    "from libs.utils import read_dataset\n",
    "from libs.text_preprocessing import *\n",
    "\n",
    "DATASET_PATH = r\"E:\\Learn Machine Learning\\Project\\Opinion Classifier\\res\\dataset\\remove_stopword_corpus.xlsx\"\n"
   ]
  },
  {
   "attachments": {},
   "cell_type": "markdown",
   "metadata": {},
   "source": [
    "Load dữ liệu từ file dataset. Tập dữ liệu bao gồm các câu đã được tiền xử lý và chia nhỏ, tách từ tiếng Việt."
   ]
  },
  {
   "cell_type": "code",
   "execution_count": 2,
   "metadata": {},
   "outputs": [
    {
     "name": "stderr",
     "output_type": "stream",
     "text": [
      "23:00:06 root INFO: Đang đọc dữ liệu từ file E:\\Learn Machine Learning\\Project\\Opinion Classifier\\res\\dataset\\remove_stopword_corpus.xlsx ...\n",
      "\t\tat Line 330 [read_dataset() in utils.py, utils]\n",
      "23:00:09 root INFO: Đọc thành công! \n",
      "\t\tat Line 338 [read_dataset() in utils.py, utils]\n"
     ]
    },
    {
     "data": {
      "text/html": [
       "<div>\n",
       "<style scoped>\n",
       "    .dataframe tbody tr th:only-of-type {\n",
       "        vertical-align: middle;\n",
       "    }\n",
       "\n",
       "    .dataframe tbody tr th {\n",
       "        vertical-align: top;\n",
       "    }\n",
       "\n",
       "    .dataframe thead th {\n",
       "        text-align: right;\n",
       "    }\n",
       "</style>\n",
       "<table border=\"1\" class=\"dataframe\">\n",
       "  <thead>\n",
       "    <tr style=\"text-align: right;\">\n",
       "      <th></th>\n",
       "      <th>Opinion</th>\n",
       "      <th>Labels</th>\n",
       "      <th>Remove_endl</th>\n",
       "      <th>Remove_punc</th>\n",
       "      <th>Remove_emoji</th>\n",
       "      <th>Remove_space</th>\n",
       "      <th>Lower</th>\n",
       "      <th>Join_word</th>\n",
       "      <th>Repair_words</th>\n",
       "      <th>Remove_stopword</th>\n",
       "    </tr>\n",
       "  </thead>\n",
       "  <tbody>\n",
       "    <tr>\n",
       "      <th>0</th>\n",
       "      <td>Yêu nhau yêu cả đường đi lối về là đây. Tuy rằ...</td>\n",
       "      <td>Positive</td>\n",
       "      <td>Yêu nhau yêu cả đường đi lối về là đây. Tuy rằ...</td>\n",
       "      <td>Yêu nhau yêu cả đường đi lối về là đây  Tuy rằ...</td>\n",
       "      <td>Yêu nhau yêu cả đường đi lối về là đây  Tuy rằ...</td>\n",
       "      <td>Yêu nhau yêu cả đường đi lối về là đây Tuy rằn...</td>\n",
       "      <td>yêu nhau yêu cả đường đi lối về là đây tuy rằn...</td>\n",
       "      <td>['yêu', 'nhau', 'yêu', 'cả', 'đường', 'đi', 'l...</td>\n",
       "      <td>['yêu', 'nhau', 'yêu', 'cả', 'đường', 'đi', 'l...</td>\n",
       "      <td>['yêu', 'nhau', 'yêu', 'đường', 'đi', 'lối', '...</td>\n",
       "    </tr>\n",
       "    <tr>\n",
       "      <th>1</th>\n",
       "      <td>Tạch tại điểm tp cho kém tức vcl</td>\n",
       "      <td>Negative</td>\n",
       "      <td>Tạch tại điểm tp cho kém tức vcl</td>\n",
       "      <td>Tạch tại điểm tp cho kém tức vcl</td>\n",
       "      <td>Tạch tại điểm tp cho kém tức vcl</td>\n",
       "      <td>Tạch tại điểm tp cho kém tức vcl</td>\n",
       "      <td>tạch tại điểm tp cho kém tức vcl</td>\n",
       "      <td>['tạch', 'tại', 'điểm', 'tp', 'cho', 'kém', 't...</td>\n",
       "      <td>['tạch', 'tại', 'điểm', 'tp', 'cho', 'kém', 't...</td>\n",
       "      <td>['tạch', 'điểm', 'tp', 'cho', 'kém', 'tức', 'v...</td>\n",
       "    </tr>\n",
       "    <tr>\n",
       "      <th>2</th>\n",
       "      <td>Thầy tốt lắm thầy ko cho đứa nào trượt đâu yên...</td>\n",
       "      <td>Positive</td>\n",
       "      <td>Thầy tốt lắm thầy ko cho đứa nào trượt đâu yên...</td>\n",
       "      <td>Thầy tốt lắm thầy ko cho đứa nào trượt đâu yên...</td>\n",
       "      <td>Thầy tốt lắm thầy ko cho đứa nào trượt đâu yên...</td>\n",
       "      <td>Thầy tốt lắm thầy ko cho đứa nào trượt đâu yên...</td>\n",
       "      <td>thầy tốt lắm thầy ko cho đứa nào trượt đâu yên...</td>\n",
       "      <td>['thầy', 'tốt', 'lắm', 'thầy', 'không', 'cho',...</td>\n",
       "      <td>['thầy', 'tốt', 'lắm', 'thầy', 'không', 'cho',...</td>\n",
       "      <td>['thầy', 'tốt', 'lắm', 'thầy', 'không', 'cho',...</td>\n",
       "    </tr>\n",
       "    <tr>\n",
       "      <th>3</th>\n",
       "      <td>Siêu siêu chất lượng</td>\n",
       "      <td>Positive</td>\n",
       "      <td>Siêu siêu chất lượng</td>\n",
       "      <td>Siêu siêu chất lượng</td>\n",
       "      <td>Siêu siêu chất lượng</td>\n",
       "      <td>Siêu siêu chất lượng</td>\n",
       "      <td>siêu siêu chất lượng</td>\n",
       "      <td>['siêu', 'siêu', 'chất_lượng']</td>\n",
       "      <td>['siêu', 'siêu', 'chất_lượng']</td>\n",
       "      <td>['siêu', 'siêu', 'chất_lượng']</td>\n",
       "    </tr>\n",
       "    <tr>\n",
       "      <th>4</th>\n",
       "      <td>Cần tìm 1 bạn trai hoặc gái ở chung trọ .Khu v...</td>\n",
       "      <td>Neutral</td>\n",
       "      <td>Cần tìm 1 bạn trai hoặc gái ở chung trọ .Khu v...</td>\n",
       "      <td>Cần tìm 1 bạn trai hoặc gái ở chung trọ  Khu v...</td>\n",
       "      <td>Cần tìm 1 bạn trai hoặc gái ở chung trọ  Khu v...</td>\n",
       "      <td>Cần tìm 1 bạn trai hoặc gái ở chung trọ Khu vự...</td>\n",
       "      <td>cần tìm 1 bạn trai hoặc gái ở chung trọ khu vự...</td>\n",
       "      <td>['cần', 'tìm', '1', 'bạn', 'trai', 'hoặc', 'gá...</td>\n",
       "      <td>['cần', 'tìm', '1', 'bạn', 'trai', 'hoặc', 'gá...</td>\n",
       "      <td>['tìm', '1', 'bạn', 'trai', 'hoặc', 'gái', 'ở'...</td>\n",
       "    </tr>\n",
       "  </tbody>\n",
       "</table>\n",
       "</div>"
      ],
      "text/plain": [
       "                                             Opinion    Labels  \\\n",
       "0  Yêu nhau yêu cả đường đi lối về là đây. Tuy rằ...  Positive   \n",
       "1                   Tạch tại điểm tp cho kém tức vcl  Negative   \n",
       "2  Thầy tốt lắm thầy ko cho đứa nào trượt đâu yên...  Positive   \n",
       "3                               Siêu siêu chất lượng  Positive   \n",
       "4  Cần tìm 1 bạn trai hoặc gái ở chung trọ .Khu v...   Neutral   \n",
       "\n",
       "                                         Remove_endl  \\\n",
       "0  Yêu nhau yêu cả đường đi lối về là đây. Tuy rằ...   \n",
       "1                   Tạch tại điểm tp cho kém tức vcl   \n",
       "2  Thầy tốt lắm thầy ko cho đứa nào trượt đâu yên...   \n",
       "3                               Siêu siêu chất lượng   \n",
       "4  Cần tìm 1 bạn trai hoặc gái ở chung trọ .Khu v...   \n",
       "\n",
       "                                         Remove_punc  \\\n",
       "0  Yêu nhau yêu cả đường đi lối về là đây  Tuy rằ...   \n",
       "1                   Tạch tại điểm tp cho kém tức vcl   \n",
       "2  Thầy tốt lắm thầy ko cho đứa nào trượt đâu yên...   \n",
       "3                               Siêu siêu chất lượng   \n",
       "4  Cần tìm 1 bạn trai hoặc gái ở chung trọ  Khu v...   \n",
       "\n",
       "                                        Remove_emoji  \\\n",
       "0  Yêu nhau yêu cả đường đi lối về là đây  Tuy rằ...   \n",
       "1                   Tạch tại điểm tp cho kém tức vcl   \n",
       "2  Thầy tốt lắm thầy ko cho đứa nào trượt đâu yên...   \n",
       "3                               Siêu siêu chất lượng   \n",
       "4  Cần tìm 1 bạn trai hoặc gái ở chung trọ  Khu v...   \n",
       "\n",
       "                                        Remove_space  \\\n",
       "0  Yêu nhau yêu cả đường đi lối về là đây Tuy rằn...   \n",
       "1                   Tạch tại điểm tp cho kém tức vcl   \n",
       "2  Thầy tốt lắm thầy ko cho đứa nào trượt đâu yên...   \n",
       "3                               Siêu siêu chất lượng   \n",
       "4  Cần tìm 1 bạn trai hoặc gái ở chung trọ Khu vự...   \n",
       "\n",
       "                                               Lower  \\\n",
       "0  yêu nhau yêu cả đường đi lối về là đây tuy rằn...   \n",
       "1                   tạch tại điểm tp cho kém tức vcl   \n",
       "2  thầy tốt lắm thầy ko cho đứa nào trượt đâu yên...   \n",
       "3                               siêu siêu chất lượng   \n",
       "4  cần tìm 1 bạn trai hoặc gái ở chung trọ khu vự...   \n",
       "\n",
       "                                           Join_word  \\\n",
       "0  ['yêu', 'nhau', 'yêu', 'cả', 'đường', 'đi', 'l...   \n",
       "1  ['tạch', 'tại', 'điểm', 'tp', 'cho', 'kém', 't...   \n",
       "2  ['thầy', 'tốt', 'lắm', 'thầy', 'không', 'cho',...   \n",
       "3                     ['siêu', 'siêu', 'chất_lượng']   \n",
       "4  ['cần', 'tìm', '1', 'bạn', 'trai', 'hoặc', 'gá...   \n",
       "\n",
       "                                        Repair_words  \\\n",
       "0  ['yêu', 'nhau', 'yêu', 'cả', 'đường', 'đi', 'l...   \n",
       "1  ['tạch', 'tại', 'điểm', 'tp', 'cho', 'kém', 't...   \n",
       "2  ['thầy', 'tốt', 'lắm', 'thầy', 'không', 'cho',...   \n",
       "3                     ['siêu', 'siêu', 'chất_lượng']   \n",
       "4  ['cần', 'tìm', '1', 'bạn', 'trai', 'hoặc', 'gá...   \n",
       "\n",
       "                                     Remove_stopword  \n",
       "0  ['yêu', 'nhau', 'yêu', 'đường', 'đi', 'lối', '...  \n",
       "1  ['tạch', 'điểm', 'tp', 'cho', 'kém', 'tức', 'v...  \n",
       "2  ['thầy', 'tốt', 'lắm', 'thầy', 'không', 'cho',...  \n",
       "3                     ['siêu', 'siêu', 'chất_lượng']  \n",
       "4  ['tìm', '1', 'bạn', 'trai', 'hoặc', 'gái', 'ở'...  "
      ]
     },
     "execution_count": 2,
     "metadata": {},
     "output_type": "execute_result"
    }
   ],
   "source": [
    "data : pd.DataFrame = read_dataset(DATASET_PATH)\n",
    "\n",
    "data.head(5)"
   ]
  },
  {
   "attachments": {},
   "cell_type": "markdown",
   "metadata": {},
   "source": [
    "# 1. Xử lí dữ liệu:"
   ]
  },
  {
   "attachments": {},
   "cell_type": "markdown",
   "metadata": {},
   "source": [
    "Giữ lại hai cột \"Remove_stopword\" và cột \"Labels\", các cột còn lại sẽ bị drop:"
   ]
  },
  {
   "cell_type": "code",
   "execution_count": 3,
   "metadata": {},
   "outputs": [
    {
     "data": {
      "text/html": [
       "<div>\n",
       "<style scoped>\n",
       "    .dataframe tbody tr th:only-of-type {\n",
       "        vertical-align: middle;\n",
       "    }\n",
       "\n",
       "    .dataframe tbody tr th {\n",
       "        vertical-align: top;\n",
       "    }\n",
       "\n",
       "    .dataframe thead th {\n",
       "        text-align: right;\n",
       "    }\n",
       "</style>\n",
       "<table border=\"1\" class=\"dataframe\">\n",
       "  <thead>\n",
       "    <tr style=\"text-align: right;\">\n",
       "      <th></th>\n",
       "      <th>Labels</th>\n",
       "      <th>Remove_stopword</th>\n",
       "    </tr>\n",
       "  </thead>\n",
       "  <tbody>\n",
       "    <tr>\n",
       "      <th>0</th>\n",
       "      <td>Positive</td>\n",
       "      <td>['yêu', 'nhau', 'yêu', 'đường', 'đi', 'lối', '...</td>\n",
       "    </tr>\n",
       "    <tr>\n",
       "      <th>1</th>\n",
       "      <td>Negative</td>\n",
       "      <td>['tạch', 'điểm', 'tp', 'cho', 'kém', 'tức', 'v...</td>\n",
       "    </tr>\n",
       "    <tr>\n",
       "      <th>2</th>\n",
       "      <td>Positive</td>\n",
       "      <td>['thầy', 'tốt', 'lắm', 'thầy', 'không', 'cho',...</td>\n",
       "    </tr>\n",
       "    <tr>\n",
       "      <th>3</th>\n",
       "      <td>Positive</td>\n",
       "      <td>['siêu', 'siêu', 'chất_lượng']</td>\n",
       "    </tr>\n",
       "    <tr>\n",
       "      <th>4</th>\n",
       "      <td>Neutral</td>\n",
       "      <td>['tìm', '1', 'bạn', 'trai', 'hoặc', 'gái', 'ở'...</td>\n",
       "    </tr>\n",
       "  </tbody>\n",
       "</table>\n",
       "</div>"
      ],
      "text/plain": [
       "     Labels                                    Remove_stopword\n",
       "0  Positive  ['yêu', 'nhau', 'yêu', 'đường', 'đi', 'lối', '...\n",
       "1  Negative  ['tạch', 'điểm', 'tp', 'cho', 'kém', 'tức', 'v...\n",
       "2  Positive  ['thầy', 'tốt', 'lắm', 'thầy', 'không', 'cho',...\n",
       "3  Positive                     ['siêu', 'siêu', 'chất_lượng']\n",
       "4   Neutral  ['tìm', '1', 'bạn', 'trai', 'hoặc', 'gái', 'ở'..."
      ]
     },
     "execution_count": 3,
     "metadata": {},
     "output_type": "execute_result"
    }
   ],
   "source": [
    "data = data.drop(columns=[x for x in data.columns.values if not (x in [\"Remove_stopword\", \"Labels\"])], axis=1)\n",
    "data.head()"
   ]
  },
  {
   "attachments": {},
   "cell_type": "markdown",
   "metadata": {},
   "source": [
    "Kiểm tra kiểu dữ liệu của một mẫu trong tập dữ liệu (Kiểu dữ liệu ta mong muốn là một danh sách các từ đơn lẻ):"
   ]
  },
  {
   "cell_type": "code",
   "execution_count": 4,
   "metadata": {},
   "outputs": [
    {
     "name": "stdout",
     "output_type": "stream",
     "text": [
      "Labels                                                      Positive\n",
      "Remove_stopword    ['yêu', 'nhau', 'yêu', 'đường', 'đi', 'lối', '...\n",
      "Name: 0, dtype: object\n"
     ]
    },
    {
     "data": {
      "text/plain": [
       "str"
      ]
     },
     "execution_count": 4,
     "metadata": {},
     "output_type": "execute_result"
    }
   ],
   "source": [
    "print(data.iloc[0])\n",
    "type(data[\"Remove_stopword\"].iloc[0])"
   ]
  },
  {
   "attachments": {},
   "cell_type": "markdown",
   "metadata": {},
   "source": [
    "Kiểu dữ liệu của các giá trị của mẫu trong cột \"Remove_stopword\" là kiểu `str`. Ta không mong muốn kiểu này. Thử hiện một đoạn script tách các từ ra riêng biệt bằng cách loại bỏ toàn bộ ký tự đặc biệt của giá trị cột \"Remove_stopword\" của các mẫu, sau đó tách thành các chuỗi con sử dụng `str.split()`:"
   ]
  },
  {
   "cell_type": "code",
   "execution_count": 5,
   "metadata": {},
   "outputs": [
    {
     "data": {
      "text/plain": [
       "['yêu',\n",
       " 'nhau',\n",
       " 'yêu',\n",
       " 'đường',\n",
       " 'đi',\n",
       " 'lối',\n",
       " 'về',\n",
       " 'tuy_rằng',\n",
       " 'không',\n",
       " 'thuyết_phục']"
      ]
     },
     "execution_count": 5,
     "metadata": {},
     "output_type": "execute_result"
    }
   ],
   "source": [
    "handle_text = lambda text: [remove_punctuation(x, '_').split()[0] for x in text.split(',')]\n",
    "\n",
    "handle_text(data[\"Remove_stopword\"].iloc[0])"
   ]
  },
  {
   "attachments": {},
   "cell_type": "markdown",
   "metadata": {},
   "source": [
    "Tìm kiếm các câu không có dữ liệu:"
   ]
  },
  {
   "cell_type": "code",
   "execution_count": 6,
   "metadata": {},
   "outputs": [],
   "source": [
    "empty_row = []\n",
    "for i, text in enumerate(data[\"Remove_stopword\"].values):\n",
    "    try:\n",
    "        handle_text(text)\n",
    "    except Exception as err:\n",
    "        empty_row.append(i)\n",
    "\n",
    "data = data.drop(index=empty_row, axis=0)\n"
   ]
  },
  {
   "cell_type": "code",
   "execution_count": 7,
   "metadata": {},
   "outputs": [
    {
     "data": {
      "text/plain": [
       "0    [yêu, nhau, yêu, đường, đi, lối, về, tuy_rằng,...\n",
       "1                 [tạch, điểm, tp, cho, kém, tức, vcl]\n",
       "2    [thầy, tốt, lắm, thầy, không, cho, đứa, trượt,...\n",
       "3                             [siêu, siêu, chất_lượng]\n",
       "4    [tìm, 1, bạn, trai, hoặc, gái, ở, chung, trọ, ...\n",
       "Name: handled, dtype: object"
      ]
     },
     "execution_count": 7,
     "metadata": {},
     "output_type": "execute_result"
    }
   ],
   "source": [
    "data[\"handled\"] = data[\"Remove_stopword\"].apply(handle_text)\n",
    "data = data.drop(columns=\"Remove_stopword\")\n",
    "data[\"handled\"].head()"
   ]
  },
  {
   "cell_type": "code",
   "execution_count": 8,
   "metadata": {},
   "outputs": [
    {
     "data": {
      "text/plain": [
       "list"
      ]
     },
     "execution_count": 8,
     "metadata": {},
     "output_type": "execute_result"
    }
   ],
   "source": [
    "type(data[\"handled\"].iloc[0])"
   ]
  },
  {
   "attachments": {},
   "cell_type": "markdown",
   "metadata": {},
   "source": [
    "Tạo từ điển và danh sách nhãn:"
   ]
  },
  {
   "cell_type": "code",
   "execution_count": 9,
   "metadata": {},
   "outputs": [],
   "source": [
    "corpus: list[list[str]] = [doc for doc in data[\"handled\"]]\n",
    "labels: list[str] = data[\"Labels\"].to_list()"
   ]
  },
  {
   "cell_type": "code",
   "execution_count": 10,
   "metadata": {},
   "outputs": [],
   "source": [
    "from libs.feature_vocabulary import feature_vocabulary_transfer\n",
    "feature_vocabulary_trs = feature_vocabulary_transfer(\"gini\")\n",
    "feature_vocabulary = feature_vocabulary_trs.fit_transform(corpus, labels, 0.3, 3)\n"
   ]
  },
  {
   "cell_type": "code",
   "execution_count": 24,
   "metadata": {},
   "outputs": [
    {
     "data": {
      "text/plain": [
       "{'00': 'Neutral',\n",
       " '12h': 'Neutral',\n",
       " '14': 'Neutral',\n",
       " '14h30': 'Neutral',\n",
       " '17h30': 'Neutral',\n",
       " '18h': 'Neutral',\n",
       " '18h30': 'Neutral',\n",
       " '1945': 'Neutral',\n",
       " '1962': 'Neutral',\n",
       " '1h': 'Neutral',\n",
       " '2020': 'Neutral',\n",
       " '21h30': 'Neutral',\n",
       " '24': 'Neutral',\n",
       " '248': 'Neutral',\n",
       " '25k': 'Neutral',\n",
       " '28': 'Neutral',\n",
       " '2k4': 'Neutral',\n",
       " '2k5': 'Neutral',\n",
       " '30k': 'Neutral',\n",
       " '360': 'Neutral',\n",
       " '42': 'Neutral',\n",
       " '4k': 'Positive',\n",
       " '4tr': 'Neutral',\n",
       " '63': 'Positive',\n",
       " '8h30': 'Neutral',\n",
       " 'acc': 'Neutral',\n",
       " 'ace': 'Neutral',\n",
       " 'anh_chị_em': 'Neutral',\n",
       " 'bch': 'Neutral',\n",
       " 'bcs': 'Negative',\n",
       " 'bcvt': 'Positive',\n",
       " 'biến': 'Neutral',\n",
       " 'bài_bản': 'Positive',\n",
       " 'bài_tập_lớn': 'Neutral',\n",
       " 'bày_tỏ': 'Neutral',\n",
       " 'bán_nước': 'Negative',\n",
       " 'báo_cáo': 'Positive',\n",
       " 'bảo_hiểm_y_tế': 'Neutral',\n",
       " 'bẩn': 'Negative',\n",
       " 'bận': 'Neutral',\n",
       " 'bốt': 'Negative',\n",
       " 'bổ_ích': 'Positive',\n",
       " 'bớt': 'Negative',\n",
       " 'bỡ_ngỡ': 'Neutral',\n",
       " 'bức_xúc': 'Negative',\n",
       " 'cao_cấp': 'Neutral',\n",
       " 'cb': 'Neutral',\n",
       " 'center': 'Neutral',\n",
       " 'cetank': 'Neutral',\n",
       " 'chat': 'Neutral',\n",
       " 'chatgpt': 'Neutral',\n",
       " 'che': 'Neutral',\n",
       " 'chiếm': 'Negative',\n",
       " 'chung_kết': 'Positive',\n",
       " 'chênh': 'Neutral',\n",
       " 'chủ_tịch': 'Neutral',\n",
       " 'chủ_yếu': 'Positive',\n",
       " 'chủ_đề': 'Neutral',\n",
       " 'com': 'Neutral',\n",
       " 'core': 'Neutral',\n",
       " 'cp': 'Neutral',\n",
       " 'ctv': 'Positive',\n",
       " 'cung_ứng': 'Positive',\n",
       " 'cây_xanh': 'Positive',\n",
       " 'công_chính': 'Neutral',\n",
       " 'công_đoàn': 'Neutral',\n",
       " 'căng_tin': 'Positive',\n",
       " 'cư_xử': 'Negative',\n",
       " 'cược': 'Neutral',\n",
       " 'cảnh_quan': 'Positive',\n",
       " 'cất': 'Negative',\n",
       " 'cắt': 'Negative',\n",
       " 'cốp': 'Negative',\n",
       " 'cổ_động_viên': 'Positive',\n",
       " 'cờ_tướng': 'Neutral',\n",
       " 'cờ_vua': 'Neutral',\n",
       " 'cực_kì': 'Positive',\n",
       " 'danh_hiệu': 'Positive',\n",
       " 'danh_sách': 'Neutral',\n",
       " 'data': 'Neutral',\n",
       " 'deadline': 'Negative',\n",
       " 'diễn_thuyết': 'Positive',\n",
       " 'dong': 'Negative',\n",
       " 'dí': 'Negative',\n",
       " 'dư': 'Neutral',\n",
       " 'dịch': 'Neutral',\n",
       " 'giang_hồ': 'Negative',\n",
       " 'giàu': 'Positive',\n",
       " 'giáo_trình': 'Positive',\n",
       " 'giáo_vụ': 'Negative',\n",
       " 'giới_hạn': 'Neutral',\n",
       " 'gpt': 'Neutral',\n",
       " 'grab': 'Negative',\n",
       " 'gsa': 'Neutral',\n",
       " 'gvhd': 'Neutral',\n",
       " 'gà': 'Negative',\n",
       " 'gần_gũi': 'Positive',\n",
       " 'gậy': 'Negative',\n",
       " 'hotline': 'Neutral',\n",
       " 'hoà_đồng': 'Positive',\n",
       " 'hoàn': 'Neutral',\n",
       " 'hoàn_thành': 'Neutral',\n",
       " 'hoàn_trả': 'Neutral',\n",
       " 'huân_chương': 'Positive',\n",
       " 'huấn_luyện_viên': 'Positive',\n",
       " 'hình_như': 'Negative',\n",
       " 'hương': 'Positive',\n",
       " 'hữu_ích': 'Positive',\n",
       " 'idol': 'Positive',\n",
       " 'if': 'Neutral',\n",
       " 'inova': 'Neutral',\n",
       " 'jd': 'Neutral',\n",
       " 'k56': 'Positive',\n",
       " 'khung_cảnh': 'Positive',\n",
       " 'khám': 'Neutral',\n",
       " 'khám_phá': 'Positive',\n",
       " 'khâu': 'Negative',\n",
       " 'khẳng_định_vị_thế': 'Positive',\n",
       " 'kim': 'Neutral',\n",
       " 'kéo_co': 'Neutral',\n",
       " 'ký': 'Neutral',\n",
       " 'kết_hợp': 'Neutral',\n",
       " 'lab': 'Positive',\n",
       " 'laptop': 'Neutral',\n",
       " 'linh_hoạt': 'Neutral',\n",
       " 'liên_kết': 'Positive',\n",
       " 'liên_lạc': 'Neutral',\n",
       " 'lo_lắng': 'Neutral',\n",
       " 'lâu_đời': 'Positive',\n",
       " 'lão': 'Negative',\n",
       " 'lí_do': 'Neutral',\n",
       " 'lùa': 'Negative',\n",
       " 'lăng': 'Neutral',\n",
       " 'lũ': 'Negative',\n",
       " 'lướt': 'Neutral',\n",
       " 'lập_trình': 'Neutral',\n",
       " 'lễ_hội': 'Positive',\n",
       " 'lễ_tân': 'Positive',\n",
       " 'lọt': 'Positive',\n",
       " 'lợi_ích': 'Positive',\n",
       " 'may_ra': 'Negative',\n",
       " 'min': 'Neutral',\n",
       " 'máy_chiếu': 'Positive',\n",
       " 'môi': 'Positive',\n",
       " 'mạnh_mẽ': 'Positive',\n",
       " 'mập_mờ': 'Neutral',\n",
       " 'ngoại_hình': 'Negative',\n",
       " 'nguồn_lực': 'Positive',\n",
       " 'ngân': 'Neutral',\n",
       " 'ngón': 'Negative',\n",
       " 'ngầu': 'Positive',\n",
       " 'nhan_sắc': 'Negative',\n",
       " 'nhiệt_huyết': 'Positive',\n",
       " 'nhà_văn_hóa': 'Positive',\n",
       " 'nhân_dân': 'Positive',\n",
       " 'nhân_khẩu': 'Neutral',\n",
       " 'nhắn': 'Neutral',\n",
       " 'nvqs': 'Neutral',\n",
       " 'nón': 'Negative',\n",
       " 'nước_ngoài': 'Positive',\n",
       " 'nắm': 'Neutral',\n",
       " 'nọ': 'Negative',\n",
       " 'nội_dung': 'Neutral',\n",
       " 'nộp': 'Neutral',\n",
       " 'part': 'Neutral',\n",
       " 'pass': 'Neutral',\n",
       " 'pgs': 'Neutral',\n",
       " 'phiếu': 'Neutral',\n",
       " 'phó_giáo_sư': 'Positive',\n",
       " 'phản_ánh': 'Negative',\n",
       " 'phủi': 'Neutral',\n",
       " 'quang_cảnh': 'Positive',\n",
       " 'quanh': 'Positive',\n",
       " 'quy_mô': 'Positive',\n",
       " 'quy_đổi': 'Neutral',\n",
       " 'quyền_lợi': 'Neutral',\n",
       " 'quát': 'Negative',\n",
       " 'quý_báu': 'Positive',\n",
       " 'quý_khách': 'Neutral',\n",
       " 'quốc': 'Neutral',\n",
       " 'rạp': 'Neutral',\n",
       " 'rộng_rãi': 'Positive',\n",
       " 'soát': 'Negative',\n",
       " 'sáng_kiến': 'Positive',\n",
       " 'sân_khấu': 'Neutral',\n",
       " 'sôi_nổi': 'Positive',\n",
       " 'sđt': 'Neutral',\n",
       " 'sạc': 'Neutral',\n",
       " 'sập': 'Negative',\n",
       " 'số_lượng': 'Neutral',\n",
       " 'tdtt': 'Positive',\n",
       " 'team': 'Neutral',\n",
       " 'tha_hồ': 'Positive',\n",
       " 'theo_đuổi': 'Neutral',\n",
       " 'thiếu_thốn': 'Negative',\n",
       " 'thoáng_đãng': 'Positive',\n",
       " 'thpt': 'Neutral',\n",
       " 'thu_mua': 'Neutral',\n",
       " 'thành_lập_trường': 'Neutral',\n",
       " 'thích_hợp': 'Positive',\n",
       " 'thường_xuyên': 'Positive',\n",
       " 'thạc_sỹ': 'Positive',\n",
       " 'thầm': 'Neutral',\n",
       " 'thắp': 'Positive',\n",
       " 'thị': 'Positive',\n",
       " 'thổ_lộ': 'Neutral',\n",
       " 'thủ_khoa': 'Positive',\n",
       " 'thủ_đô': 'Positive',\n",
       " 'tiêu_chuẩn': 'Positive',\n",
       " 'tiếc_nuối': 'Neutral',\n",
       " 'tiến_sỹ': 'Positive',\n",
       " 'tiền_thân': 'Neutral',\n",
       " 'tiện_nghi': 'Positive',\n",
       " 'tiện_ích': 'Positive',\n",
       " 'toeic': 'Neutral',\n",
       " 'toàn_quốc': 'Positive',\n",
       " 'tranh': 'Positive',\n",
       " 'treo': 'Positive',\n",
       " 'tri_thức': 'Positive',\n",
       " 'trong_lành': 'Positive',\n",
       " 'trung_chuyển': 'Positive',\n",
       " 'trung_học_phổ_thông_quốc_gia': 'Neutral',\n",
       " 'trườg': 'Negative',\n",
       " 'trận': 'Positive',\n",
       " 'trắng': 'Neutral',\n",
       " 'trực_tiếp': 'Neutral',\n",
       " 'tuyến_tính': 'Neutral',\n",
       " 'tâm_huyết': 'Positive',\n",
       " 'tây': 'Neutral',\n",
       " 'tình_cờ': 'Neutral',\n",
       " 'tò_mò': 'Neutral',\n",
       " 'tóc': 'Neutral',\n",
       " 'tùng': 'Positive',\n",
       " 'tđh': 'Positive',\n",
       " 'tư_lệnh': 'Neutral',\n",
       " 'tương_đối': 'Positive',\n",
       " 'tạm_biệt': 'Neutral',\n",
       " 'tận_tình': 'Positive',\n",
       " 'tệ': 'Negative',\n",
       " 'tốc_độ': 'Positive',\n",
       " 'tổ_hợp': 'Neutral',\n",
       " 'tổn_thương': 'Negative',\n",
       " 'tổng': 'Neutral',\n",
       " 'tổng_điểm': 'Neutral',\n",
       " 'tự_hào': 'Positive',\n",
       " 'ute': 'Neutral',\n",
       " 'view': 'Positive',\n",
       " 'vinh_quang': 'Positive',\n",
       " 'vua': 'Positive',\n",
       " 'ví': 'Neutral',\n",
       " 'vô_tình': 'Neutral',\n",
       " 'vướng': 'Neutral',\n",
       " 'vận_động': 'Positive',\n",
       " 'vế': 'Neutral',\n",
       " 'web': 'Negative',\n",
       " 'website': 'Neutral',\n",
       " 'xuất_sắc': 'Positive',\n",
       " 'xác_suất': 'Neutral',\n",
       " 'xò': 'Positive',\n",
       " 'xước': 'Negative',\n",
       " 'xếp_hạng': 'Neutral',\n",
       " 'yêu_cầu_kinh_nghiệm': 'Neutral',\n",
       " 'yêu_quý': 'Positive',\n",
       " 'zalopay': 'Neutral',\n",
       " 'áo_dài': 'Positive',\n",
       " 'áo_khoác': 'Neutral',\n",
       " 'áo_mưa': 'Negative',\n",
       " 'ó': 'Negative',\n",
       " 'đa_dạng': 'Positive',\n",
       " 'điều_khiển': 'Neutral',\n",
       " 'đơn_phương': 'Negative',\n",
       " 'đại_cương': 'Neutral',\n",
       " 'đại_số': 'Neutral',\n",
       " 'đảm_nhiệm': 'Neutral',\n",
       " 'địa_chỉ_số': 'Neutral',\n",
       " 'đối': 'Neutral',\n",
       " 'đỡ': 'Neutral',\n",
       " 'đực': 'Negative',\n",
       " '͎': 'Neutral',\n",
       " 'ẩm_thực': 'Neutral',\n",
       " 'ốm': 'Negative',\n",
       " 'xét': 'Neutral',\n",
       " 'tuyệt_vời': 'Positive',\n",
       " 'rẻ': 'Positive',\n",
       " 'thoáng': 'Positive',\n",
       " 'test': 'Neutral',\n",
       " 'khang_trang': 'Positive',\n",
       " 'thí_sinh': 'Neutral',\n",
       " 'xịn': 'Positive',\n",
       " 'thông_minh': 'Positive',\n",
       " 'trang_bị': 'Positive',\n",
       " 'tuyển': 'Neutral',\n",
       " '2023': 'Neutral',\n",
       " 'nhắn_tin': 'Neutral',\n",
       " 'đỉnh': 'Positive',\n",
       " 'trường_học': 'Positive',\n",
       " 'siêu': 'Positive',\n",
       " 'thiết_bị': 'Positive',\n",
       " 'việc_làm': 'Positive',\n",
       " 'điều_hoà': 'Positive',\n",
       " '̀': 'Neutral',\n",
       " 'cậu': 'Neutral',\n",
       " 'tớ': 'Neutral',\n",
       " 'học_bạ': 'Neutral',\n",
       " 'ielts': 'Neutral',\n",
       " 'mã': 'Neutral',\n",
       " 'tiếc': 'Neutral',\n",
       " 'tự_động_hoá': 'Neutral',\n",
       " 'tuần': 'Neutral',\n",
       " 'hàng_đầu': 'Positive',\n",
       " 'khuôn_viên': 'Positive',\n",
       " 'bí_thư': 'Neutral',\n",
       " 'cam_kết': 'Neutral',\n",
       " 'cao_đẳng': 'Neutral',\n",
       " 'chất': 'Positive',\n",
       " 'cơ_học': 'Neutral',\n",
       " 'giành': 'Positive',\n",
       " 'vô_địch': 'Positive',\n",
       " 'hiện_đại': 'Positive',\n",
       " 'đăng_ký': 'Neutral',\n",
       " '1k': 'Negative',\n",
       " 'bật': 'Positive',\n",
       " 'bắn': 'Neutral',\n",
       " 'dày': 'Positive',\n",
       " 'dắt': 'Negative',\n",
       " 'link': 'Neutral',\n",
       " 'nhàn': 'Positive',\n",
       " 'phong_trào': 'Positive',\n",
       " 'tại_sao': 'Neutral',\n",
       " 'tận_tâm': 'Positive',\n",
       " 'tự_do': 'Neutral',\n",
       " 'tự_giác': 'Positive',\n",
       " 'việt_nam': 'Positive',\n",
       " 'văn_phòng': 'Neutral',\n",
       " 'xoay': 'Neutral',\n",
       " 'y_tế': 'Neutral',\n",
       " 'đk': 'Neutral',\n",
       " 'đồ_án': 'Neutral',\n",
       " 'ôn': 'Neutral',\n",
       " '2022': 'Positive',\n",
       " 'giảng_dạy': 'Positive',\n",
       " 'đất_nước': 'Positive',\n",
       " 'chửi': 'Negative',\n",
       " 'mặc': 'Positive',\n",
       " 'cầu_đường': 'Positive',\n",
       " '03': 'Neutral',\n",
       " '16': 'Neutral',\n",
       " '2k3': 'Neutral',\n",
       " 'an': 'Positive',\n",
       " 'bóng_đá': 'Positive',\n",
       " 'bề': 'Positive',\n",
       " 'chính_thức': 'Neutral',\n",
       " 'chặn': 'Negative',\n",
       " 'công_nghiệp': 'Positive',\n",
       " 'cơ_sở_vật_chất': 'Positive',\n",
       " 'cụ_thể': 'Neutral',\n",
       " 'giải_trí': 'Positive',\n",
       " 'gấp': 'Neutral',\n",
       " 'hấp_dẫn': 'Positive',\n",
       " 'im': 'Negative',\n",
       " 'kêu': 'Negative',\n",
       " 'lượng': 'Positive',\n",
       " 'màu': 'Neutral',\n",
       " 'môi_trường_học': 'Positive',\n",
       " 'nguyên_lý': 'Neutral',\n",
       " 'ngưỡng': 'Neutral',\n",
       " 'rút': 'Neutral',\n",
       " 'sạch_sẽ': 'Positive',\n",
       " 'sở_hữu': 'Positive',\n",
       " 'time': 'Neutral',\n",
       " 'tắc': 'Negative',\n",
       " 'utcer': 'Positive',\n",
       " 'vật_liệu': 'Neutral',\n",
       " 'đếm': 'Negative',\n",
       " 'đồng_chí': 'Neutral',\n",
       " 'câu_lạc_bộ': 'Positive',\n",
       " 'minh': 'Neutral',\n",
       " 'bóng_rổ': 'Positive',\n",
       " 'trưởng': 'Neutral',\n",
       " 'môi_trường_học_tập': 'Positive',\n",
       " 'phân_hiệu': 'Neutral',\n",
       " 'ưu_tiên': 'Neutral',\n",
       " 'ngôi': 'Positive',\n",
       " 'bào': 'Positive',\n",
       " 'thành_tích': 'Positive',\n",
       " 'tài_liệu': 'Neutral',\n",
       " 'nghề': 'Positive',\n",
       " '04': 'Neutral',\n",
       " '22': 'Neutral',\n",
       " '2k': 'Negative',\n",
       " 'chi_tiết': 'Neutral',\n",
       " 'chữ_kí': 'Neutral',\n",
       " 'cảnh': 'Positive',\n",
       " 'cẩn_thận': 'Neutral',\n",
       " 'facebook': 'Neutral',\n",
       " 'già': 'Negative',\n",
       " 'gv': 'Positive',\n",
       " 'gắn_bó': 'Positive',\n",
       " 'gọn': 'Negative',\n",
       " 'hẳn': 'Positive',\n",
       " 'hội_thao': 'Neutral',\n",
       " 'hợp_lý': 'Positive',\n",
       " 'kẹt': 'Negative',\n",
       " 'lê': 'Positive',\n",
       " 'nhật': 'Neutral',\n",
       " 'nỗ_lực': 'Positive',\n",
       " 'phi': 'Negative',\n",
       " 'phụ': 'Negative',\n",
       " 'rộng_lớn': 'Positive',\n",
       " 'sức': 'Positive',\n",
       " 'sức_bền': 'Neutral',\n",
       " 'thương': 'Neutral',\n",
       " 'thế_giới': 'Positive',\n",
       " 'tốt_bụng': 'Positive',\n",
       " 'tờ': 'Neutral',\n",
       " 'vui_chơi': 'Positive',\n",
       " 'văn_minh': 'Positive',\n",
       " 'yếu': 'Negative',\n",
       " 'đẹp_trai': 'Positive',\n",
       " 'đổ': 'Negative',\n",
       " 'ứng_tuyển': 'Neutral',\n",
       " 'xinh': 'Positive',\n",
       " 'đẹp': 'Positive',\n",
       " 'rộng': 'Positive',\n",
       " 'chí': 'Neutral',\n",
       " 'liên_hệ': 'Neutral',\n",
       " 'mát': 'Positive',\n",
       " 'có_lẽ': 'Neutral',\n",
       " '000': 'Neutral',\n",
       " 'b1': 'Neutral',\n",
       " 'chúc_mừng': 'Positive',\n",
       " 'thiết_kế': 'Positive'}"
      ]
     },
     "execution_count": 24,
     "metadata": {},
     "output_type": "execute_result"
    }
   ],
   "source": [
    "feature_vocabulary"
   ]
  },
  {
   "cell_type": "code",
   "execution_count": 11,
   "metadata": {},
   "outputs": [
    {
     "name": "stdout",
     "output_type": "stream",
     "text": [
      "['bcs', 'bán_nước', 'bẩn', 'bốt', 'bớt', 'bức_xúc', 'chiếm', 'cư_xử', 'cất', 'cắt', 'cốp', 'deadline', 'dong', 'dí', 'giang_hồ', 'giáo_vụ', 'grab', 'gà', 'gậy', 'hình_như', 'khâu', 'lão', 'lùa', 'lũ', 'may_ra', 'ngoại_hình', 'ngón', 'nhan_sắc', 'nón', 'nọ', 'phản_ánh', 'quát', 'soát', 'sập', 'thiếu_thốn', 'trườg', 'tệ', 'tổn_thương', 'web', 'xước', 'áo_mưa', 'ó', 'đơn_phương', 'đực', 'ốm', '1k', 'dắt', 'chửi', 'chặn', 'im', 'kêu', 'tắc', 'đếm', '2k', 'già', 'gọn', 'kẹt', 'phi', 'phụ', 'yếu', 'đổ']\n"
     ]
    }
   ],
   "source": [
    "print(feature_vocabulary_trs.get_feature_vocabulary(\"Negative\"))"
   ]
  },
  {
   "attachments": {},
   "cell_type": "markdown",
   "metadata": {},
   "source": [
    "Sử dụng phương pháp thêm từ đặc trưng để thêm các trọng số Positive, Negative và Neutral vào mỗi câu:"
   ]
  },
  {
   "cell_type": "code",
   "execution_count": 45,
   "metadata": {},
   "outputs": [],
   "source": [
    "def add_postfix(sentences : list[str]) -> list[str]:\n",
    "    adding = []\n",
    "    for key in feature_vocabulary:\n",
    "        adding += [feature_vocabulary[key]] * sentences.count(key)\n",
    "    return sentences + adding\n"
   ]
  },
  {
   "cell_type": "code",
   "execution_count": 46,
   "metadata": {},
   "outputs": [
    {
     "name": "stdout",
     "output_type": "stream",
     "text": [
      "['năm', 'nay', 'chụp', 'ảnh', 'thẻ', 'chuất', 'lượng']\n"
     ]
    },
    {
     "data": {
      "text/plain": [
       "['năm', 'nay', 'chụp', 'ảnh', 'thẻ', 'chuất', 'lượng', 'Positive']"
      ]
     },
     "execution_count": 46,
     "metadata": {},
     "output_type": "execute_result"
    }
   ],
   "source": [
    "i = 200\n",
    "print(data[\"handled\"].iloc[i])\n",
    "add_postfix(data[\"handled\"].iloc[i])"
   ]
  },
  {
   "cell_type": "code",
   "execution_count": 47,
   "metadata": {},
   "outputs": [],
   "source": [
    "data[\"important_feature\"] = data[\"handled\"].apply(add_postfix)"
   ]
  },
  {
   "cell_type": "code",
   "execution_count": 48,
   "metadata": {},
   "outputs": [
    {
     "data": {
      "text/plain": [
       "0    [yêu, nhau, yêu, đường, đi, lối, về, tuy_rằng,...\n",
       "1                 [tạch, điểm, tp, cho, kém, tức, vcl]\n",
       "2    [thầy, tốt, lắm, thầy, không, cho, đứa, trượt,...\n",
       "3         [siêu, siêu, chất_lượng, Positive, Positive]\n",
       "4    [tìm, 1, bạn, trai, hoặc, gái, ở, chung, trọ, ...\n",
       "5                    [cơ_sở, rất, tiện_nghi, Positive]\n",
       "6    [em, thu_mua, laptop, cũ, v, laptop, hỏng, anh...\n",
       "7    [sinh_viên, chính, khách_hàng, mang, nguồn, th...\n",
       "8    [1, 4, trường, kỹ_thuật, hàng_đầu, miền, bắc, ...\n",
       "9    [mặc, áo, trường, mặc, long, bào, Positive, Po...\n",
       "Name: important_feature, dtype: object"
      ]
     },
     "execution_count": 48,
     "metadata": {},
     "output_type": "execute_result"
    }
   ],
   "source": [
    "data[\"important_feature\"].head(10)"
   ]
  },
  {
   "attachments": {},
   "cell_type": "markdown",
   "metadata": {},
   "source": [
    "# 2. Xử dụng TF-IDF để nhúng từ:"
   ]
  },
  {
   "cell_type": "code",
   "execution_count": 49,
   "metadata": {},
   "outputs": [],
   "source": [
    "from libs.tf_idf import *"
   ]
  },
  {
   "cell_type": "code",
   "execution_count": 50,
   "metadata": {},
   "outputs": [],
   "source": [
    "corpus: list[list[str]] = [doc for doc in data[\"important_feature\"]]\n",
    "labels: list[str] = data[\"Labels\"].to_list()"
   ]
  },
  {
   "cell_type": "code",
   "execution_count": 51,
   "metadata": {},
   "outputs": [],
   "source": [
    "df = pd.DataFrame(tf_idf_vectorizer(corpus, features_extraction(corpus)), columns=list(features_extraction(corpus)))\n",
    "df[\"label\"] = labels"
   ]
  },
  {
   "attachments": {},
   "cell_type": "markdown",
   "metadata": {},
   "source": [
    "Ghi ra file csv và kết thúc:"
   ]
  },
  {
   "cell_type": "code",
   "execution_count": 59,
   "metadata": {},
   "outputs": [],
   "source": [
    "df.to_csv(r\"E:\\Learn Machine Learning\\Project\\Opinion Classifier\\res\\dataset\\tf-idf-remv-stopwords.csv\")"
   ]
  }
 ],
 "metadata": {
  "kernelspec": {
   "display_name": "Python 3",
   "language": "python",
   "name": "python3"
  },
  "language_info": {
   "codemirror_mode": {
    "name": "ipython",
    "version": 3
   },
   "file_extension": ".py",
   "mimetype": "text/x-python",
   "name": "python",
   "nbconvert_exporter": "python",
   "pygments_lexer": "ipython3",
   "version": "3.11.1"
  },
  "orig_nbformat": 4
 },
 "nbformat": 4,
 "nbformat_minor": 2
}
